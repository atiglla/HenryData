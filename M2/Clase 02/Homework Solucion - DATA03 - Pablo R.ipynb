{
 "cells": [
  {
   "cell_type": "code",
   "execution_count": 1,
   "metadata": {},
   "outputs": [
    {
     "name": "stdout",
     "output_type": "stream",
     "text": [
      "1024\n"
     ]
    }
   ],
   "source": [
    "resultados_moneda = pow(2,10) # #Omega\n",
    "print(resultados_moneda) #corriente clásica"
   ]
  },
  {
   "cell_type": "code",
   "execution_count": 4,
   "metadata": {},
   "outputs": [
    {
     "name": "stdout",
     "output_type": "stream",
     "text": [
      "120.0\n"
     ]
    },
    {
     "data": {
      "text/plain": [
       "0.33611111111111114"
      ]
     },
     "execution_count": 4,
     "metadata": {},
     "output_type": "execute_result"
    }
   ],
   "source": [
    "from math import factorial\n",
    "control_aeropuerto = factorial(10) / (factorial(3)*factorial(10-3))\n",
    "print(control_aeropuerto) #corriente clásica o frecuentista\n",
    "primera = 1/10\n",
    "segunda = 1/9\n",
    "tercera = 1/8\n",
    "primera + segunda + tercera"
   ]
  },
  {
   "cell_type": "code",
   "execution_count": 14,
   "metadata": {},
   "outputs": [
    {
     "data": {
      "text/html": [
       "<div>\n",
       "<style scoped>\n",
       "    .dataframe tbody tr th:only-of-type {\n",
       "        vertical-align: middle;\n",
       "    }\n",
       "\n",
       "    .dataframe tbody tr th {\n",
       "        vertical-align: top;\n",
       "    }\n",
       "\n",
       "    .dataframe thead th {\n",
       "        text-align: right;\n",
       "    }\n",
       "</style>\n",
       "<table border=\"1\" class=\"dataframe\">\n",
       "  <thead>\n",
       "    <tr style=\"text-align: right;\">\n",
       "      <th></th>\n",
       "      <th>Si</th>\n",
       "      <th>No</th>\n",
       "    </tr>\n",
       "  </thead>\n",
       "  <tbody>\n",
       "    <tr>\n",
       "      <th>Norte</th>\n",
       "      <td>148</td>\n",
       "      <td>52</td>\n",
       "    </tr>\n",
       "    <tr>\n",
       "      <th>Noreste</th>\n",
       "      <td>162</td>\n",
       "      <td>54</td>\n",
       "    </tr>\n",
       "    <tr>\n",
       "      <th>Sur</th>\n",
       "      <td>296</td>\n",
       "      <td>74</td>\n",
       "    </tr>\n",
       "    <tr>\n",
       "      <th>Centro</th>\n",
       "      <td>252</td>\n",
       "      <td>48</td>\n",
       "    </tr>\n",
       "  </tbody>\n",
       "</table>\n",
       "</div>"
      ],
      "text/plain": [
       "          Si  No\n",
       "Norte    148  52\n",
       "Noreste  162  54\n",
       "Sur      296  74\n",
       "Centro   252  48"
      ]
     },
     "execution_count": 14,
     "metadata": {},
     "output_type": "execute_result"
    }
   ],
   "source": [
    "cuadro"
   ]
  },
  {
   "cell_type": "code",
   "execution_count": 17,
   "metadata": {},
   "outputs": [
    {
     "name": "stdout",
     "output_type": "stream",
     "text": [
      "               Si        No\n",
      "Norte    0.136280  0.047882\n",
      "Noreste  0.149171  0.049724\n",
      "Sur      0.272560  0.068140\n",
      "Centro   0.232044  0.044199\n",
      "0.7900552486187845\n",
      "La probailidad de usar cinturon en el norte es: 0.13627992633517497 , noreste: 0.14917127071823205 , sur: 0.27255985267034993  y en la región centro: 0.23204419889502761 .\n"
     ]
    }
   ],
   "source": [
    "import pandas as pd\n",
    "import numpy as np\n",
    "# a) Es posible inferir que se utlizo el método fecuentista.\n",
    "\n",
    "regiones = ['Norte', 'Noreste', 'Sur', 'Centro']\n",
    "\n",
    "valores_si = [148, 162, 296, 252]\n",
    "\n",
    "valores_no = [52, 54, 74, 48]\n",
    "\n",
    "datos = {'Si': valores_si, 'No': valores_no}\n",
    "\n",
    "cuadro = pd.DataFrame(datos, index = regiones)\n",
    "\n",
    "print(cuadro/(sum(cuadro.Si) + sum(cuadro.No)))\n",
    "\n",
    "# b) Cuadro en imagen adjunta a la solución.\n",
    "\n",
    "c = 858/1086\n",
    "print(c)\n",
    "\n",
    "# d) La probabilidad actual es mayor, por lo que el director estaría satisfecho.\n",
    "\n",
    "# e)\n",
    "\n",
    "norte = 148/1086 \n",
    "noreste = 162/1086\n",
    "sur = 296/1086 \n",
    "centro = 252/1086\n",
    "\n",
    "print(\"La probabilidad de usar cinturon en el norte es:\",norte,\", noreste:\",noreste,\", sur:\",sur,\" y en la región centro:\",centro,\".\")"
   ]
  },
  {
   "cell_type": "code",
   "execution_count": 18,
   "metadata": {},
   "outputs": [],
   "source": [
    "def probabilidadNaipes1(categoria):\n",
    "    cartas = 52\n",
    "    cartasColor=26\n",
    "    cartasCategoria=13\n",
    "    if(categoria=='roja' or categoria=='negra'):\n",
    "        return cartasColor/cartas\n",
    "    elif(categoria in ('pica','trebol','corazon','diamante') ):\n",
    "        return cartasCategoria/cartas"
   ]
  },
  {
   "cell_type": "code",
   "execution_count": 21,
   "metadata": {},
   "outputs": [
    {
     "name": "stdout",
     "output_type": "stream",
     "text": [
      "0.25\n"
     ]
    }
   ],
   "source": [
    "print(probabilidadNaipes1('diamante')) #corriente clásica"
   ]
  },
  {
   "cell_type": "code",
   "execution_count": 22,
   "metadata": {},
   "outputs": [
    {
     "name": "stdout",
     "output_type": "stream",
     "text": [
      "0.5\n"
     ]
    }
   ],
   "source": [
    "print(probabilidadNaipes1('negra'))"
   ]
  },
  {
   "cell_type": "code",
   "execution_count": 39,
   "metadata": {},
   "outputs": [
    {
     "name": "stdout",
     "output_type": "stream",
     "text": [
      "0.15384615384615385\n"
     ]
    }
   ],
   "source": [
    "\n",
    "print((4+4)/52)\n",
    "#2. Crear una función que cálcule la probabilidad de que salga un 7 o un 8 \n",
    "# y además el usuario pueda establecer el color.\n",
    "def probabilidadNaipes2(numero = None, categoria = None):\n",
    "    cartas = 52\n",
    "    cartasColor=26\n",
    "    if(numero == None and (categoria=='negra' or categoria=='roja')):\n",
    "        return cartasColor/cartas\n",
    "    elif(numero!= None and (categoria=='negra' or categoria=='roja') ):\n",
    "        return (cartasColor/cartas)*(4/cartas) #intersección de eventos independientes\n",
    "    elif(numero != None and categoria == None):\n",
    "        return 4/cartas\n"
   ]
  },
  {
   "cell_type": "code",
   "execution_count": 40,
   "metadata": {},
   "outputs": [
    {
     "data": {
      "text/plain": [
       "0.038461538461538464"
      ]
     },
     "execution_count": 40,
     "metadata": {},
     "output_type": "execute_result"
    }
   ],
   "source": [
    "2/52"
   ]
  },
  {
   "cell_type": "code",
   "execution_count": 41,
   "metadata": {},
   "outputs": [
    {
     "data": {
      "text/plain": [
       "(0.038461538461538464, 0.07692307692307693, 0.5)"
      ]
     },
     "execution_count": 41,
     "metadata": {},
     "output_type": "execute_result"
    }
   ],
   "source": [
    "probabilidadNaipes2(8, 'roja'), probabilidadNaipes2(8), probabilidadNaipes2(categoria = 'roja')"
   ]
  },
  {
   "cell_type": "code",
   "execution_count": 44,
   "metadata": {},
   "outputs": [
    {
     "name": "stdout",
     "output_type": "stream",
     "text": [
      "0.038461538461538464\n"
     ]
    }
   ],
   "source": [
    "print(probabilidadNaipes2(1,'roja'))"
   ]
  },
  {
   "cell_type": "code",
   "execution_count": null,
   "metadata": {},
   "outputs": [],
   "source": [
    "# 6. Probabilidad de que ARGENTINA GANE EL MUNDIAL DE FUTBOL\n",
    "#TOTALMENTE SUBJETIVA o BAYESIANA CON MODELOS DE PROBABILIDAD AVANZADOS"
   ]
  },
  {
   "cell_type": "code",
   "execution_count": 45,
   "metadata": {},
   "outputs": [
    {
     "data": {
      "text/plain": [
       "(0.4, 0.26, 0.34)"
      ]
     },
     "execution_count": 45,
     "metadata": {},
     "output_type": "execute_result"
    }
   ],
   "source": [
    "E1 = 20\n",
    "E2= 13\n",
    "E3 = 17\n",
    "E1/50, E2/50, E3/50"
   ]
  },
  {
   "cell_type": "code",
   "execution_count": null,
   "metadata": {},
   "outputs": [],
   "source": []
  }
 ],
 "metadata": {
  "kernelspec": {
   "display_name": "Python 3.10.5 ('DS-M2-T6Be8q6M')",
   "language": "python",
   "name": "python3"
  },
  "language_info": {
   "codemirror_mode": {
    "name": "ipython",
    "version": 3
   },
   "file_extension": ".py",
   "mimetype": "text/x-python",
   "name": "python",
   "nbconvert_exporter": "python",
   "pygments_lexer": "ipython3",
   "version": "3.10.5"
  },
  "orig_nbformat": 4,
  "vscode": {
   "interpreter": {
    "hash": "58b31b435da5b13351a747207c499c82e32a01f5c470a0efe75ad67a6134e8d4"
   }
  }
 },
 "nbformat": 4,
 "nbformat_minor": 2
}
