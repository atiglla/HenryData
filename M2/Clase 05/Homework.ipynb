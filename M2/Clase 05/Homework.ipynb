{
 "cells": [
  {
   "cell_type": "code",
   "execution_count": null,
   "metadata": {},
   "outputs": [],
   "source": [
    "#1. \n",
    "#a. Se supone que lo dicho por el gerente es verdad a menos que las evidencias muestrales indiquen lo contrario. \n",
    "# En toda situación en la que se desee probar la validez de una afirmación, la hipótesis nula se suele basar en la suposición de que la afirmación sea verdadera.\n",
    "#   H0: μ <= 600\n",
    "#   Ha: μ > 600\n",
    "#b. Si no se puede rechazar H0 se puede inferir que lo dicho por el gerente es cierto.\n",
    "#c. Si se puede recharzar H0 significa que los clientes gastan más de $600."
   ]
  },
  {
   "cell_type": "code",
   "execution_count": null,
   "metadata": {},
   "outputs": [],
   "source": [
    "#2. \n",
    "#a. En estudios de investigación, las hipótesis nula y alternativa deben formularse de manera que al rechazar H0 se apoye la conclusión de la investigación. \n",
    "# La hipótesis de la investigación, entonces, debe expresarse como hipótesis alternativa.\n",
    "#   H0: μ <= 14\n",
    "#   Ha: μ > 14\n",
    "#b. No se tienen evidencias suficientes de que el nuevo plan aumente las ventas.\n",
    "#c. La evidencia muestra que el nuevo plan incrementa las ventas."
   ]
  },
  {
   "cell_type": "code",
   "execution_count": null,
   "metadata": {},
   "outputs": [],
   "source": [
    "#3. \n",
    "#a. Criterios de defición de hipótesis correspondientes a una investigación.\n",
    "#   H0: μ <= 56.2\n",
    "#   Ha: μ > 56.2\n",
    "#b. El error de tipo I es rechazar que los hombres alemanes ven la televisión 56.2 minutos en las horas de mayor audiencia cuando el realidad es verdadero.\n",
    "#   Se confirma que Ha en realidad era falsa.\n",
    "#c. El error de tipo II es aceptar que los hombres alemanes ven la televisión 56.2 minutos en las horas de mayor audiencia cuando el realidad es falso.\n",
    "#   Se confirma que Ha en realidad era verdadera."
   ]
  },
  {
   "cell_type": "code",
   "execution_count": null,
   "metadata": {},
   "outputs": [],
   "source": [
    "#4. \n",
    "#a. Criterios de defición de hipótesis correspondientes a una afirmación.\n",
    "#   H0: μ <= 1\n",
    "#   Ha: μ > 1\n",
    "#b. El error de tipo I es rechazar que el jugo tiene 1gr o menos de grasa cuando el realidad es verdadero.\n",
    "#   Se confirma que Ha en realidad era falsa y el jugo no tiene mas de un 1gr de grasa.\n",
    "#c. El error de tipo II es aceptar que el jugo tiene 1gr o menos de grasa cuando el realidad es falso.\n",
    "#   Se confirma que Ha en realidad era verdadera y el jugeo tiene mas de 1gr de grasa."
   ]
  },
  {
   "cell_type": "markdown",
   "metadata": {},
   "source": [
    "#### Un fabricante de neumáticos informa que el promedio de km que se puede recorrer con ellos es de 50.000km la desviación estandar es de 4.000 km. Usted decide comprar 80 neumáticos y decide corroborar la afirmación del fabricante. Si su medición da una media de 49.600km."
   ]
  },
  {
   "cell_type": "markdown",
   "metadata": {},
   "source": [
    "¿Consedería correcto lo expresado por el fabricante para un nivel de significancia del 0.05?."
   ]
  },
  {
   "cell_type": "code",
   "execution_count": 2,
   "metadata": {},
   "outputs": [
    {
     "name": "stdout",
     "output_type": "stream",
     "text": [
      "-0.7071067811865475\n",
      "48891.256567099495\n",
      "51108.743432900505\n"
     ]
    }
   ],
   "source": [
    "import math\n",
    "\n",
    "n= 50\n",
    "desvio_estandar= 4000\n",
    "media= 49600\n",
    "media_poblacional= 50000\n",
    "significancia= 0.05\n",
    "\n",
    "#Muestra mayor a 30, utilizamos distribución normal.\n",
    "# H0 = 50.000 y H1 != 50.000\n",
    "#Buscamos valores de -Zc y Zc en la tabla para 0.05. 0.05/2 = 0.025. \n",
    "# -Zc = -1.96 y Zc = 1.96 \n",
    "\n",
    "a_z = (media - media_poblacional) / (desvio_estandar / math.sqrt(n))\n",
    "\n",
    "print(a_z)\n",
    "\n",
    "media2 = (-1.96 * (desvio_estandar / math.sqrt(n))) + media_poblacional\n",
    "\n",
    "print(media2)\n",
    "\n",
    "media1 = (1.96 * (desvio_estandar / math.sqrt(n))) + media_poblacional\n",
    "\n",
    "print(media1)\n"
   ]
  },
  {
   "cell_type": "markdown",
   "metadata": {},
   "source": [
    "¿Consedería correcto lo expresado por el fabricante para un nivel del 0.01?\n"
   ]
  },
  {
   "cell_type": "code",
   "execution_count": 41,
   "metadata": {},
   "outputs": [
    {
     "name": "stdout",
     "output_type": "stream",
     "text": [
      "-0.7071067811865475\n",
      "48540.53160363097\n",
      "51459.46839636903\n"
     ]
    }
   ],
   "source": [
    "n= 50\n",
    "desvio_estandar= 4000\n",
    "media= 49600\n",
    "media_poblacional= 50000\n",
    "significancia= 0.01\n",
    "\n",
    "#Muestra mayor a 30, utilizamos distribución normal.\n",
    "# H0 = 50.000 y H1 != 50.000\n",
    "#Buscamos valores de -Zc y Zc en la tabla para 0.01. -Zc / Zc = 0.01/2 = 0.005. \n",
    "# -Zc = -2.58 y Zc = 2.58 \n",
    "\n",
    "b_z = (media - media_poblacional) / (desvio_estandar / math.sqrt(n))\n",
    "\n",
    "print(b_z)\n",
    "\n",
    "\n",
    "media1 = (-2.58 * (desvio_estandar / math.sqrt(n))) + media_poblacional\n",
    "\n",
    "print(media1)\n",
    "\n",
    "media2 = (2.58 * (desvio_estandar / math.sqrt(n))) + media_poblacional\n",
    "\n",
    "print(media2)"
   ]
  },
  {
   "cell_type": "markdown",
   "metadata": {},
   "source": [
    "#### Los alumnos de Henry, obtienen en promedio una puntuación de 78 en un HC. Henry determina que a través de métodos innovadores puede aumentar esa media. Considerando la hipótesis de investigación de que el nuevo sistema proporciona un rendimiento medio mayor; es decir, μ > 78. El grupo de investigación tomo una muestra de 45 alumnos y obtiene notas promedio de 80 puntos."
   ]
  },
  {
   "cell_type": "markdown",
   "metadata": {},
   "source": [
    "¿Determine si el nuevo sistema realmente mejoro el rendimiento para un nivel de significancia del 0.05?."
   ]
  },
  {
   "cell_type": "code",
   "execution_count": 3,
   "metadata": {},
   "outputs": [
    {
     "name": "stdout",
     "output_type": "stream",
     "text": [
      "0.8944271909999159\n",
      "81.68951216287465\n"
     ]
    }
   ],
   "source": [
    "n = 45\n",
    "desvio_estandar = 15\n",
    "media = 80\n",
    "media_poblacional = 78\n",
    "significancia = 0.05\n",
    "\n",
    "#Muestra mayor a 30, utilizamos distribución normal.\n",
    "#H0: μ<= 78 y H1: μ> 78.\n",
    "#Buscamos valores de Zc en la tabla para 0.05. \n",
    "# Zc = 1.65 \n",
    "\n",
    "c_z = (media - media_poblacional) / (desvio_estandar / math.sqrt(n))\n",
    "\n",
    "print(c_z)\n",
    "\n",
    "#Se considera que el nuevo método no aumenta el rendimiento.\n",
    "\n",
    "media1 = (1.65 * (desvio_estandar / math.sqrt(n))) + media_poblacional\n",
    "\n",
    "print(media1)\n"
   ]
  },
  {
   "cell_type": "markdown",
   "metadata": {},
   "source": [
    "¿Determine si el nuevo sistema realmente mejoro el rendimiento para un nivel de significancia del 0.01?"
   ]
  },
  {
   "cell_type": "code",
   "execution_count": 35,
   "metadata": {},
   "outputs": [
    {
     "name": "stdout",
     "output_type": "stream",
     "text": [
      "0.8944271909999159\n",
      "83.21003838757451\n"
     ]
    }
   ],
   "source": [
    "n = 45\n",
    "desvio_estandar = 15\n",
    "media = 80\n",
    "media_poblacional = 78\n",
    "significancia = 0.01\n",
    "\n",
    "#Muestra mayor a 30, utilizamos distribución normal.\n",
    "#H0: μ<= 78 y H1: μ> 78.\n",
    "#Buscamos valores de Zc en la tabla para 0.01. \n",
    "# Zc = 2.33 \n",
    "\n",
    "d_z = (media - media_poblacional) / (desvio_estandar / math.sqrt(n))\n",
    "\n",
    "print(d_z)\n",
    "\n",
    "#Se considera que el nuevo no método aumenta el rendimiento.\n",
    "\n",
    "#Para obtener el valor desde el cual se encuetra en zona de rechazo, debemos despejar la fórmula.\n",
    "\n",
    "media1 = (2.33 * (desvio_estandar / math.sqrt(n))) + media_poblacional\n",
    "\n",
    "print(media1)"
   ]
  }
 ],
 "metadata": {
  "interpreter": {
   "hash": "b51ad55a38bed2146e8f97b38a2e8608b2d26e929d2f2cc163bb776a971c4777"
  },
  "kernelspec": {
   "display_name": "Python 3.10.0 64-bit",
   "language": "python",
   "name": "python3"
  },
  "language_info": {
   "codemirror_mode": {
    "name": "ipython",
    "version": 3
   },
   "file_extension": ".py",
   "mimetype": "text/x-python",
   "name": "python",
   "nbconvert_exporter": "python",
   "pygments_lexer": "ipython3",
   "version": "3.10.0"
  },
  "orig_nbformat": 4
 },
 "nbformat": 4,
 "nbformat_minor": 2
}
