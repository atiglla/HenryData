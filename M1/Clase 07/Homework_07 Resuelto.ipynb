{
 "cells": [
  {
   "cell_type": "markdown",
   "metadata": {},
   "source": [
    "# Práctica Clase 7"
   ]
  },
  {
   "cell_type": "markdown",
   "metadata": {},
   "source": [
    "1) Diseñar una clase que permita trabajar con un árbol binario y que contenga los métodos:<br>\n",
    "    * insertaVal: para insertar un dato<br>\n",
    "    * buscaVal: que devuelva True o False si existe o no un dato<br>\n",
    "    * verVal: que imprima por pantalla los valores del árbol<br>\n",
    "\n",
    "Nota: Se puede utilizar la recursividad\n"
   ]
  },
  {
   "cell_type": "code",
   "execution_count": 1,
   "metadata": {},
   "outputs": [],
   "source": [
    "class Nodo:\n",
    "    def __init__(self, dato):\n",
    "        self.izq = None\n",
    "        self.der = None\n",
    "        self.dato = dato\n",
    "\n",
    "    def insertaVal(self, dato):\n",
    "        if self.dato:\n",
    "            if dato < self.dato:\n",
    "                if self.izq == None:\n",
    "                    self.izq = Nodo(dato)\n",
    "                else:\n",
    "                    self.izq.insertaVal(dato)\n",
    "            elif dato > self.dato:\n",
    "                if self.der == None:\n",
    "                    self.der = Nodo(dato)\n",
    "                else:\n",
    "                    self.der.insertaVal(dato)\n",
    "        else:\n",
    "            self.dato = dato\n",
    "\n",
    "    def buscaVal(self, val):\n",
    "        if val < self.dato:\n",
    "            if self.izq == None:\n",
    "                return False\n",
    "            return self.izq.buscaVal(val)\n",
    "        elif val > self.dato:\n",
    "            if self.der == None:\n",
    "                return False\n",
    "            return self.der.buscaVal(val)\n",
    "        else:\n",
    "            return True\n",
    "\n",
    "    def verVal(self):\n",
    "        if self.izq:\n",
    "            self.izq.verVal()\n",
    "        print(self.dato)\n",
    "        if self.der:\n",
    "            self.der.verVal()"
   ]
  },
  {
   "cell_type": "code",
   "execution_count": 2,
   "metadata": {},
   "outputs": [],
   "source": [
    "root = Nodo(10)"
   ]
  },
  {
   "cell_type": "code",
   "execution_count": 3,
   "metadata": {},
   "outputs": [],
   "source": [
    "root.insertaVal(3)\n",
    "root.insertaVal(13)\n",
    "root.insertaVal(1)\n",
    "root.insertaVal(8)\n",
    "root.insertaVal(20)"
   ]
  },
  {
   "cell_type": "code",
   "execution_count": 4,
   "metadata": {},
   "outputs": [
    {
     "name": "stdout",
     "output_type": "stream",
     "text": [
      "8 Encontrado!\n"
     ]
    }
   ],
   "source": [
    "valorBuscado = 8\n",
    "if (root.buscaVal(valorBuscado)):\n",
    "    print(valorBuscado, 'Encontrado!')\n",
    "else:\n",
    "    print(valorBuscado, 'No Encontrado!')"
   ]
  },
  {
   "cell_type": "code",
   "execution_count": 5,
   "metadata": {},
   "outputs": [
    {
     "name": "stdout",
     "output_type": "stream",
     "text": [
      "1\n",
      "3\n",
      "8\n",
      "10\n",
      "13\n",
      "20\n"
     ]
    }
   ],
   "source": [
    "root.verVal()"
   ]
  },
  {
   "cell_type": "code",
   "execution_count": 6,
   "metadata": {},
   "outputs": [],
   "source": [
    "root.insertaVal(9)"
   ]
  },
  {
   "cell_type": "code",
   "execution_count": 7,
   "metadata": {},
   "outputs": [
    {
     "name": "stdout",
     "output_type": "stream",
     "text": [
      "1\n",
      "3\n",
      "8\n",
      "9\n",
      "10\n",
      "13\n",
      "20\n"
     ]
    }
   ],
   "source": [
    "root.verVal()"
   ]
  },
  {
   "cell_type": "code",
   "execution_count": null,
   "metadata": {},
   "outputs": [],
   "source": []
  }
 ],
 "metadata": {
  "kernelspec": {
   "display_name": "Python 3.10.4 64-bit",
   "language": "python",
   "name": "python3"
  },
  "language_info": {
   "codemirror_mode": {
    "name": "ipython",
    "version": 3
   },
   "file_extension": ".py",
   "mimetype": "text/x-python",
   "name": "python",
   "nbconvert_exporter": "python",
   "pygments_lexer": "ipython3",
   "version": "3.10.4"
  },
  "vscode": {
   "interpreter": {
    "hash": "e593ac106456af50ce7af38f9671c411b49d6cd90f9b885e167f0f594e09038c"
   }
  }
 },
 "nbformat": 4,
 "nbformat_minor": 4
}
