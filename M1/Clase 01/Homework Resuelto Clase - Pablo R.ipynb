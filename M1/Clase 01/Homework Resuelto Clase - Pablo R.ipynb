{
 "cells": [
  {
   "cell_type": "markdown",
   "metadata": {},
   "source": [
    "# Práctica Clase 1 "
   ]
  },
  {
   "cell_type": "markdown",
   "metadata": {},
   "source": [
    "1) Crear una función capaz de convertir números enteros de base 10 a base 2. Debe recibir como parámetro el número a convertir<br>\n",
    "Consideraciones:<br> \n",
    "a. Tratar de resolverlo sin usar la función format(nro,\"b\")<br>\n",
    "b. El pdf \"conversion-de-decimal-a-binario.pdf\" puede servir de ayuda.\n"
   ]
  },
  {
   "cell_type": "code",
   "execution_count": 3,
   "metadata": {},
   "outputs": [
    {
     "ename": "ValueError",
     "evalue": "Unknown format code 'b' for object of type 'float'",
     "output_type": "error",
     "traceback": [
      "\u001b[1;31m---------------------------------------------------------------------------\u001b[0m",
      "\u001b[1;31mValueError\u001b[0m                                Traceback (most recent call last)",
      "\u001b[1;32mc:\\Users\\Pablo\\Documents\\GitProjects\\Henry\\DS-M1\\Clase 01\\Homework Resuelto Clase - Pablo R.ipynb Cell 3'\u001b[0m in \u001b[0;36m<cell line: 1>\u001b[1;34m()\u001b[0m\n\u001b[1;32m----> <a href='vscode-notebook-cell:/c%3A/Users/Pablo/Documents/GitProjects/Henry/DS-M1/Clase%2001/Homework%20Resuelto%20Clase%20-%20Pablo%20R.ipynb#ch0000017?line=0'>1</a>\u001b[0m \u001b[39mformat\u001b[39;49m(\u001b[39m0.2\u001b[39;49m,\u001b[39m'\u001b[39;49m\u001b[39mb\u001b[39;49m\u001b[39m'\u001b[39;49m)\n",
      "\u001b[1;31mValueError\u001b[0m: Unknown format code 'b' for object of type 'float'"
     ]
    }
   ],
   "source": [
    "format(0.2,'b')"
   ]
  },
  {
   "cell_type": "code",
   "execution_count": 1,
   "metadata": {},
   "outputs": [],
   "source": [
    "def NumeroBinario(numero):\n",
    "    '''\n",
    "    Esta función recibe como parámetro un número entero mayor ó igual a cero y lo devuelve en su \n",
    "    representación binaria. Debe recibir y devolver un valor de tipo entero.\n",
    "    En caso de que el parámetro no sea de tipo entero y mayor a -1 retorna nulo.\n",
    "    '''\n",
    "    if (type(numero) != int):\n",
    "        return None\n",
    "    if (numero < 0):\n",
    "        return None\n",
    "    elif (numero == 0):\n",
    "        return 0\n",
    "\n",
    "    lista_binario = []\n",
    "    div_resto = 0\n",
    "\n",
    "    while(numero > 0):\n",
    "        div_resto = numero % 2\n",
    "        numero = numero // 2\n",
    "        lista_binario.append(div_resto)\n",
    "\n",
    "    numero_binario = ''\n",
    "    for e in lista_binario:\n",
    "        numero_binario = str(e) + numero_binario  \n",
    "\n",
    "    return int(numero_binario)\n"
   ]
  },
  {
   "cell_type": "markdown",
   "metadata": {},
   "source": [
    "Versión Pablo"
   ]
  },
  {
   "cell_type": "code",
   "execution_count": 49,
   "metadata": {},
   "outputs": [],
   "source": [
    "def NumeroBinario(numero):\n",
    "    '''\n",
    "    Esta función recibe como parámetro un número entero mayor ó igual a cero y lo devuelve en su \n",
    "    representación binaria. Debe recibir y devolver un valor de tipo entero.\n",
    "    En caso de que el parámetro no sea de tipo entero y mayor a -1 retorna nulo.\n",
    "    '''\n",
    "    if type(numero) != int or numero < 0: #Con o sin paréntesis?\n",
    "        return None\n",
    "    elif numero == 0:\n",
    "        return 0\n",
    "    lista_binario = [] #Podríamos usar una tupla?\n",
    "    div_resto = 0\n",
    "\n",
    "    while numero > 0:\n",
    "        div_resto = numero % 2\n",
    "        numero = numero // 2\n",
    "        lista_binario.append(div_resto) #Podría usar el método append si fuera una cadena de texto/tupla?\n",
    "\n",
    "    numero_binario = ''\n",
    "    for e in lista_binario:\n",
    "        numero_binario = str(e) + numero_binario \n",
    "\n",
    "    return int(numero_binario)"
   ]
  },
  {
   "cell_type": "code",
   "execution_count": 48,
   "metadata": {},
   "outputs": [],
   "source": [
    "numero = 2 \n",
    "numero // 2 "
   ]
  },
  {
   "cell_type": "code",
   "execution_count": 54,
   "metadata": {},
   "outputs": [
    {
     "data": {
      "text/plain": [
       "(100001, '100001')"
      ]
     },
     "execution_count": 54,
     "metadata": {},
     "output_type": "execute_result"
    }
   ],
   "source": [
    "num = 33\n",
    "NumeroBinario(num), format(num, 'b')"
   ]
  },
  {
   "cell_type": "code",
   "execution_count": 51,
   "metadata": {},
   "outputs": [
    {
     "data": {
      "text/plain": [
       "'1100'"
      ]
     },
     "execution_count": 51,
     "metadata": {},
     "output_type": "execute_result"
    }
   ],
   "source": [
    "format(12, 'b')"
   ]
  },
  {
   "cell_type": "code",
   "execution_count": 54,
   "metadata": {},
   "outputs": [
    {
     "data": {
      "text/plain": [
       "11101"
      ]
     },
     "execution_count": 54,
     "metadata": {},
     "output_type": "execute_result"
    }
   ],
   "source": [
    "#Ejemplo:\n",
    "NumeroBinario(29) "
   ]
  },
  {
   "cell_type": "markdown",
   "metadata": {},
   "source": [
    "2) Convertir de decimal a binario las fracciones 1/2, 1/3, 1/4, 1/5, 1/6, 1/7, 1/8, 1/9. Luego analizar los resultados y observar qué particularidad se encuentra en los mismos. Se puede usar Python o una calculadora, lo importante es ver si hay algo que podemos notar..."
   ]
  },
  {
   "cell_type": "code",
   "execution_count": 56,
   "metadata": {},
   "outputs": [],
   "source": [
    "def NumeroBinarioFraccionario(numero_decimal):\n",
    "    if type(numero_decimal) != float or numero_decimal < 0 or numero_decimal > 1:\n",
    "        return None\n",
    "    elif numero_decimal == 0:\n",
    "        return 0\n",
    "    \n",
    "    lim_periodico = 24\n",
    "    lista_binario = []\n",
    "    i = 0\n",
    "    while numero_decimal > 0 and i < lim_periodico:\n",
    "        lista_binario.append(int(numero_decimal * 2))\n",
    "        numero_decimal = numero_decimal * 2 - int(numero_decimal * 2)\n",
    "        i+=1\n",
    "\n",
    "    numero_binario = '0.'\n",
    "    for e in lista_binario:\n",
    "        numero_binario += str(e)\n",
    "\n",
    "    return(numero_binario)    "
   ]
  },
  {
   "cell_type": "code",
   "execution_count": 65,
   "metadata": {},
   "outputs": [
    {
     "name": "stdout",
     "output_type": "stream",
     "text": [
      "13 [0]\n",
      "14 [0, 1]\n",
      "15 [0, 1, 0]\n",
      "16 [0, 1, 0, 1]\n",
      "17 [0, 1, 0, 1, 0]\n",
      "18 [0, 1, 0, 1, 0, 1]\n",
      "19 [0, 1, 0, 1, 0, 1, 0]\n",
      "20 [0, 1, 0, 1, 0, 1, 0, 1]\n",
      "21 [0, 1, 0, 1, 0, 1, 0, 1, 0]\n",
      "22 [0, 1, 0, 1, 0, 1, 0, 1, 0, 1]\n",
      "23 [0, 1, 0, 1, 0, 1, 0, 1, 0, 1, 0]\n"
     ]
    }
   ],
   "source": [
    "    numero_decimal = 1/3\n",
    "    lim_periodico = 24\n",
    "    lista_binario = []\n",
    "    while numero_decimal > 0 and i < lim_periodico:\n",
    "        lista_binario.append(int(numero_decimal * 2))\n",
    "        numero_decimal = numero_decimal * 2 - int(numero_decimal * 2)\n",
    "        print(i, lista_binario)\n",
    "        i+=1"
   ]
  },
  {
   "cell_type": "code",
   "execution_count": 62,
   "metadata": {},
   "outputs": [
    {
     "name": "stdout",
     "output_type": "stream",
     "text": [
      "fraccion 1/2: 0.5 y en binario: 0.1\n",
      "fraccion 1/3: 0.3333333333333333 y en binario: 0.010101010101010101010101\n",
      "fraccion 1/4: 0.25 y en binario: 0.01\n",
      "fraccion 1/5: 0.2 y en binario: 0.001100110011001100110011\n",
      "fraccion 1/6: 0.16666666666666666 y en binario: 0.001010101010101010101010\n",
      "fraccion 1/7: 0.14285714285714285 y en binario: 0.001001001001001001001001\n",
      "fraccion 1/8: 0.125 y en binario: 0.001\n",
      "fraccion 1/9: 0.1111111111111111 y en binario: 0.000111000111000111000111\n"
     ]
    }
   ],
   "source": [
    "for i in range(2,10):\n",
    "    print(f\"fraccion 1/{i}: {str(1/i)} y en binario: {NumeroBinarioFraccionario(1/i)}\") #f-string\n",
    "    #qué pasa con 1/5?\n",
    "\n"
   ]
  },
  {
   "cell_type": "code",
   "execution_count": 79,
   "metadata": {},
   "outputs": [
    {
     "name": "stdout",
     "output_type": "stream",
     "text": [
      "Fraccion 1 / 2 :  0.5  y En binario:  0.1\n",
      "Fraccion 1 / 3 :  0.3333333333333333  y En binario:  0.010101010101010101010101\n",
      "Fraccion 1 / 4 :  0.25  y En binario:  0.01\n",
      "Fraccion 1 / 5 :  0.2  y En binario:  0.001100110011001100110011\n",
      "Fraccion 1 / 6 :  0.16666666666666666  y En binario:  0.001010101010101010101010\n",
      "Fraccion 1 / 7 :  0.14285714285714285  y En binario:  0.001001001001001001001001\n",
      "Fraccion 1 / 8 :  0.125  y En binario:  0.001\n",
      "Fraccion 1 / 9 :  0.1111111111111111  y En binario:  0.000111000111000111000111\n"
     ]
    }
   ],
   "source": [
    "for i in range(2,10):\n",
    "    print('Fraccion 1 /', i, ': ', str(1/i), ' y En binario: ', NumeroBinarioFraccionario(1/i)) #puedo utilizar las llamadas f-strings?\n",
    "    #qué pasa con 1/5?"
   ]
  },
  {
   "cell_type": "code",
   "execution_count": 83,
   "metadata": {},
   "outputs": [
    {
     "data": {
      "text/plain": [
       "'0.000110011001100110011001'"
      ]
     },
     "execution_count": 83,
     "metadata": {},
     "output_type": "execute_result"
    }
   ],
   "source": [
    "NumeroBinarioFraccionario(0.1)"
   ]
  },
  {
   "cell_type": "markdown",
   "metadata": {},
   "source": [
    "Salida esperada:\n",
    "* Fraccion 1 / 2 :  0.5  y En binario:  0.1\n",
    "* Fraccion 1 / 3 :  0.3333333333333333  y En binario:  0.010101010101010101010101\n",
    "* Fraccion 1 / 4 :  0.25  y En binario:  0.01\n",
    "* Fraccion 1 / 5 :  0.2  y En binario:  0.001100110011001100110011\n",
    "* Fraccion 1 / 6 :  0.16666666666666666  y En binario:  0.001010101010101010101010\n",
    "* Fraccion 1 / 7 :  0.14285714285714285  y En binario:  0.001001001001001001001001\n",
    "* Fraccion 1 / 8 :  0.125  y En binario:  0.001\n",
    "* Fraccion 1 / 9 :  0.1111111111111111  y En binario:  0.000111000111000111000111"
   ]
  }
 ],
 "metadata": {
  "kernelspec": {
   "display_name": "Python 3.10.5 ('callback-8lmAfSZ5')",
   "language": "python",
   "name": "python3"
  },
  "language_info": {
   "codemirror_mode": {
    "name": "ipython",
    "version": 3
   },
   "file_extension": ".py",
   "mimetype": "text/x-python",
   "name": "python",
   "nbconvert_exporter": "python",
   "pygments_lexer": "ipython3",
   "version": "3.10.5"
  },
  "orig_nbformat": 4,
  "vscode": {
   "interpreter": {
    "hash": "96c4357322ea65bf08b1c6d8239e57ea8e7ccf18ca4965506c16c175f3fd9a05"
   }
  }
 },
 "nbformat": 4,
 "nbformat_minor": 2
}
