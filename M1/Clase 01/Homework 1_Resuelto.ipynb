{
 "cells": [
  {
   "cell_type": "code",
   "execution_count": 37,
   "id": "c5d4cfe6-a35c-4472-855e-02c2625b26c4",
   "metadata": {},
   "outputs": [],
   "source": [
    "## Ejercicio conversion a numero binario:\n",
    "def aBinario(numero):\n",
    "    if numero < 0:\n",
    "        print('Debe ingresar un número mayor que cero')\n",
    "        return None\n",
    "    if numero == 0:\n",
    "        return numero\n",
    "    if type(numero) != int:\n",
    "        print('Debe ingresar un número entero')\n",
    "        return None\n",
    "    else:\n",
    "        ''' Creamos una lista vacia para ir guardando los valores '''\n",
    "        lista_binaria = []\n",
    "        ''' Definimos el primer binario del numero ingresado '''\n",
    "        modulo = numero%2\n",
    "        lista_binaria.append(modulo)\n",
    "        ''' Definimos una lista vacia para los cocientes '''\n",
    "        lista_cocientes = []\n",
    "        cociente = numero // 2\n",
    "        lista_cocientes.append(cociente)\n",
    "        \n",
    "        for i in lista_cocientes:\n",
    "            if i == 1:\n",
    "                break\n",
    "            else:\n",
    "                nuevo_cociente = i//2\n",
    "                lista_cocientes.append(nuevo_cociente)\n",
    "        ''' Ahora ya que tenemos la lista de cocientes, vamos a crear la lista binaria '''\n",
    "        for i in lista_cocientes:\n",
    "            \n",
    "            if i == 1:\n",
    "                lista_binaria.append(1)\n",
    "            else:\n",
    "                binario = i%2\n",
    "                lista_binaria.append(binario)\n",
    "\n",
    "        ''' Ahora chequeamos que el valor que hayamos introducido coincida con la\n",
    "            lista binaria creada '''\n",
    "        lista_binaria_invertida = lista_binaria[::-1]\n",
    "        contador = len(lista_binaria)\n",
    "        numero_entero = 0\n",
    "        j = 0\n",
    "        for i in lista_binaria_invertida:\n",
    "            longitud_de_lista = len(lista_binaria)\n",
    "            contador -= 1\n",
    "            if i == 1:\n",
    "                j = 2\n",
    "                numero_entero += j**(contador)\n",
    "            else:\n",
    "                j = 0        \n",
    "                    \n",
    "        print('Lista de cocientes: \\n')\n",
    "        print (lista_cocientes)\n",
    "        print('Lista de binarios: \\n')\n",
    "        print (lista_binaria[::-1])\n",
    "        print('Valor calculado a partir de la lista binaria: \\n')\n",
    "        return(numero_entero)"
   ]
  },
  {
   "cell_type": "code",
   "execution_count": 38,
   "id": "179e449f-9156-43e5-984a-36b2b89f44c5",
   "metadata": {},
   "outputs": [
    {
     "name": "stdout",
     "output_type": "stream",
     "text": [
      "Lista de cocientes: \n",
      "\n",
      "[12, 6, 3, 1]\n",
      "Lista de binarios: \n",
      "\n",
      "[1, 1, 0, 0, 1]\n",
      "Valor calculado a partir de la lista binaria: \n",
      "\n"
     ]
    },
    {
     "data": {
      "text/plain": [
       "25"
      ]
     },
     "execution_count": 38,
     "metadata": {},
     "output_type": "execute_result"
    }
   ],
   "source": [
    "aBinario(25)"
   ]
  },
  {
   "cell_type": "code",
   "execution_count": 39,
   "id": "f9346af6-c12b-40f4-b60a-f9b7701c9cff",
   "metadata": {},
   "outputs": [],
   "source": [
    "## Fracción a Binario\n",
    "def fraccion_a_Binario(fraccion):\n",
    "    if fraccion >= 1:\n",
    "        print('Debe ingresar un valor menor a uno')\n",
    "        return None\n",
    "    if type(fraccion) != float:\n",
    "        print('Debe ingresar un valor flotante')\n",
    "        return None\n",
    "    if fraccion == 0.0:\n",
    "        return 0\n",
    "    if fraccion < 0:\n",
    "        print('El valor no puede ser negativo')\n",
    "        return None\n",
    "    else:\n",
    "        # Creamos la variable binario en formato str\n",
    "        binario = '0.'\n",
    "        # Creamos la lista de multiplicados vacía\n",
    "        lista_multiplicados = []\n",
    "        # Multiplicamos el primer valor por 2 (porque así es el proceso)\n",
    "        valor = fraccion * 2\n",
    "        # Añadimos ese valor a la lista de multiplicados\n",
    "        lista_multiplicados.append(valor)\n",
    "        multiplo = 0\n",
    "        contador = 0\n",
    "        for i in lista_multiplicados:\n",
    "            contador += 1\n",
    "            if i == 1.0:\n",
    "                break\n",
    "            if i > 1.0:\n",
    "                \"\"\"Esta parte lo que hace es, cuando el valor es mayor\n",
    "                    que 1.0, se le resta 1.0. Por ejemplo 1.25- 1.0, y al\n",
    "                    resultado de eso se lo multiplica por 2. Es así como\n",
    "                    armamos la lista de multiplicados. Luego esa lista es\n",
    "                    la que se usa para determinar si va un uno o un cero\"\"\"\n",
    "                multiplo = (i - 1.0)*2\n",
    "                lista_multiplicados.append(multiplo)\n",
    "            else:\n",
    "                multiplo = i * 2\n",
    "                lista_multiplicados.append(multiplo)\n",
    "        print ('Valores mutiplicados')\n",
    "        ''' Si los valores multiplicados son mayores a 1.0 el valor binario es 1\n",
    "            caso contrario, el valor es 0'''\n",
    "        print (lista_multiplicados)\n",
    "\n",
    "        for i in lista_multiplicados:\n",
    "            if i >= 1.0:\n",
    "                binario +=  '1'\n",
    "            if i < 1.0:\n",
    "                binario += '0'\n",
    "        print('\\nValor decimal binario:')\n",
    "        return binario"
   ]
  },
  {
   "cell_type": "code",
   "execution_count": 43,
   "id": "e7d72db3-c0f8-44bd-8211-5f3073252ee8",
   "metadata": {},
   "outputs": [
    {
     "name": "stdout",
     "output_type": "stream",
     "text": [
      "Valores mutiplicados\n",
      "[0.6666666666666666, 1.3333333333333333, 0.6666666666666665, 1.333333333333333, 0.6666666666666661, 1.3333333333333321, 0.6666666666666643, 1.3333333333333286, 0.6666666666666572, 1.3333333333333144, 0.6666666666666288, 1.3333333333332575, 0.6666666666665151, 1.3333333333330302, 0.6666666666660603, 1.3333333333321207, 0.6666666666642413, 1.3333333333284827, 0.6666666666569654, 1.3333333333139308, 0.6666666666278616, 1.3333333332557231, 0.6666666665114462, 1.3333333330228925, 0.666666666045785, 1.33333333209157, 0.6666666641831398, 1.3333333283662796, 0.6666666567325592, 1.3333333134651184, 0.6666666269302368, 1.3333332538604736, 0.6666665077209473, 1.3333330154418945, 0.6666660308837891, 1.3333320617675781, 0.6666641235351562, 1.3333282470703125, 0.666656494140625, 1.33331298828125, 0.6666259765625, 1.333251953125, 0.66650390625, 1.3330078125, 0.666015625, 1.33203125, 0.6640625, 1.328125, 0.65625, 1.3125, 0.625, 1.25, 0.5, 1.0]\n",
      "\n",
      "Valor decimal binario:\n"
     ]
    },
    {
     "data": {
      "text/plain": [
       "'0.010101010101010101010101010101010101010101010101010101'"
      ]
     },
     "execution_count": 43,
     "metadata": {},
     "output_type": "execute_result"
    }
   ],
   "source": [
    "fraccion_a_Binario(1/3)"
   ]
  },
  {
   "cell_type": "code",
   "execution_count": 44,
   "id": "3ad469fb-efc7-47b1-9ea9-5c502a5d16f2",
   "metadata": {},
   "outputs": [],
   "source": [
    "## Otra forma de hacerlo\n",
    "def NumeroBinarioFraccion(numero):\n",
    "    if type(numero)!= float:\n",
    "        return \"El valor ingresado debe ser entero\"\n",
    "    elif numero<0:\n",
    "        return \"El valor ingresado debe ser positivo\"\n",
    "    else:\n",
    "        binario = '0.'\n",
    "        auxiliar = numero\n",
    "        while auxiliar < 2:\n",
    "            auxiliar= auxiliar*2\n",
    "            if auxiliar < 1:\n",
    "                binario = binario + str(0)\n",
    "            elif auxiliar > 1:\n",
    "                binario =binario + str(1)\n",
    "                auxiliar=auxiliar - 1\n",
    "            else:\n",
    "                binario =binario + str(1)\n",
    "                break\n",
    "        return  binario"
   ]
  },
  {
   "cell_type": "code",
   "execution_count": 45,
   "id": "c0aeb0b0-dad7-4508-84bd-6d64c8ce1946",
   "metadata": {},
   "outputs": [
    {
     "data": {
      "text/plain": [
       "'0.010101010101010101010101010101010101010101010101010101'"
      ]
     },
     "execution_count": 45,
     "metadata": {},
     "output_type": "execute_result"
    }
   ],
   "source": [
    "NumeroBinarioFraccion(1/3)"
   ]
  },
  {
   "cell_type": "code",
   "execution_count": 46,
   "id": "eb565b80-e77b-43bd-a3f7-1ce639407cef",
   "metadata": {},
   "outputs": [
    {
     "name": "stdout",
     "output_type": "stream",
     "text": [
      "11001.0101\n",
      "11001\n"
     ]
    }
   ],
   "source": [
    "import math\n",
    "def NumeroBinario(numero):\n",
    "    \"\"\"Le decimos que si el numero es igual a entero u otro tipo de dato, return None\"\"\"\n",
    "    if not (numero == int(numero) or numero):\n",
    "        return None\n",
    "    # Si no se cumple lo anterior, que inicialice el exponente en 0\n",
    "    exp = 0\n",
    "    # Definimos la variable nuevo en 0\n",
    "    nuevo = 0\n",
    "    # Y Acá empezamos a hacer las comparaciones del numero\n",
    "    while(numero >= 2):\n",
    "        # Creamos la variable digito para que almacene el resto de la division\n",
    "        digito = numero % 2\n",
    "        # Y luego de aplicarle el modulo, me va a reducir el numero a la mitad\n",
    "        numero //= 2\n",
    "        # \n",
    "        nuevo += digito * (10 ** exp)\n",
    "        exp += 1\n",
    "    nuevo += numero * (10 ** exp)\n",
    "    return nuevo\n",
    "\n",
    "\"\"\"Esta funcion de acá permite pasar a binario un numero mixto, es decir una parte entera a binario y otra parte fraccionaria\n",
    "a binario. Pero lo estaría haciendo con parte de una función integrada, que es math.modf. Esta separa la parte decimal de la \n",
    "entera por si sola.\"\"\"\n",
    "def decimalToBinari(numero):\n",
    "    parte_decimal, parte_entera = math.modf(numero)\n",
    "    exp = -1\n",
    "    nuevo = 0\n",
    "    parte_entera = NumeroBinario(int(parte_entera))\n",
    "    # parte decimal\n",
    "    while parte_decimal != 0:\n",
    "        parte_decimal *= 2\n",
    "        parte_decimal, digito = math.modf(parte_decimal)\n",
    "        nuevo += digito * (10 ** exp)\n",
    "        exp -= 1\n",
    "    return float(parte_entera) + nuevo\n",
    "\n",
    "print(decimalToBinari(25.3125))\n",
    "print(NumeroBinario(25))"
   ]
  },
  {
   "cell_type": "markdown",
   "id": "1b72d275-4c15-4fe9-936b-11e4406f2b96",
   "metadata": {},
   "source": [
    "[Como funciona el math.modf en python](https://www.tutorialspoint.com/python/number_modf.htm)"
   ]
  },
  {
   "cell_type": "code",
   "execution_count": 47,
   "id": "d05417de-babc-482b-8649-2d2b1a81cc45",
   "metadata": {},
   "outputs": [],
   "source": [
    "def NumeroBinario(numero):\n",
    "    listaBinaria = []\n",
    "    \n",
    "    if type(numero) != int or numero < 0:\n",
    "        return None\n",
    "    elif numero == 0:\n",
    "        return 0\n",
    "    else:       \n",
    "        while numero >= 1:\n",
    "            listaBinaria.insert(0,numero%2)\n",
    "            numero = numero // 2\n",
    "            resultado = \"\".join(str(i) for i in listaBinaria)\n",
    "    \n",
    "    return int(resultado)\n"
   ]
  },
  {
   "cell_type": "code",
   "execution_count": 48,
   "id": "66d092a5-cbf8-4b50-b84e-df08f16012fc",
   "metadata": {},
   "outputs": [
    {
     "data": {
      "text/plain": [
       "11001"
      ]
     },
     "execution_count": 48,
     "metadata": {},
     "output_type": "execute_result"
    }
   ],
   "source": [
    "NumeroBinario(25)"
   ]
  },
  {
   "cell_type": "code",
   "execution_count": 50,
   "id": "759bc58e-28c0-4d83-bb97-37b720063843",
   "metadata": {},
   "outputs": [
    {
     "name": "stdin",
     "output_type": "stream",
     "text": [
      "dijite el numero  0.3125\n"
     ]
    },
    {
     "name": "stdout",
     "output_type": "stream",
     "text": [
      "el numero en binario es:  0.0101\n"
     ]
    }
   ],
   "source": [
    "numero=float(input(\"dijite el numero \"))  \n",
    "binario=\"0.\"\n",
    "while numero-int(numero)!=0:\n",
    "  if numero*2<1:\n",
    "    numero=numero*2\n",
    "    binario=binario+str(0)\n",
    "  else:\n",
    "    numero=numero*2\n",
    "    binario=binario+str(1)\n",
    "    numero=numero-1\n",
    "print(\"el numero en binario es: \", binario)\n"
   ]
  },
  {
   "cell_type": "code",
   "execution_count": 51,
   "id": "3ded95e5-88da-4d66-8943-5ffeaaaf9385",
   "metadata": {
    "scrolled": true,
    "tags": []
   },
   "outputs": [],
   "source": [
    "def NumeroBinario(numero):\n",
    "    if type(numero) != int:\n",
    "        return None\n",
    "    if numero == 0:\n",
    "        return 0\n",
    "    if numero <= 0:\n",
    "        return None\n",
    "    binario = ''\n",
    "    while numero > 0:\n",
    "        if numero % 2 == 0:\n",
    "            binario += '0'\n",
    "            numero /= 2\n",
    "        else:\n",
    "            binario += '1'\n",
    "            numero -= 1\n",
    "            numero /= 2\n",
    "    return binario\n"
   ]
  },
  {
   "cell_type": "code",
   "execution_count": 52,
   "id": "3266b3e6-b9dc-4012-a24b-ebdef7136857",
   "metadata": {},
   "outputs": [
    {
     "data": {
      "text/plain": [
       "'10011'"
      ]
     },
     "execution_count": 52,
     "metadata": {},
     "output_type": "execute_result"
    }
   ],
   "source": [
    "NumeroBinario(25)"
   ]
  },
  {
   "cell_type": "code",
   "execution_count": 54,
   "id": "ad2d5584-cdaa-4daa-a8c8-2a8af37413a5",
   "metadata": {},
   "outputs": [],
   "source": [
    "def Binario(numero):\n",
    "    if numero > 0:\n",
    "        return int(bin(numero)[2:])\n",
    "    \n",
    "    else:\n",
    "        return \"Ingresa un numero positivo\"\n"
   ]
  },
  {
   "cell_type": "code",
   "execution_count": 56,
   "id": "75323077-8c84-4760-b903-ab000bfbecc5",
   "metadata": {},
   "outputs": [
    {
     "data": {
      "text/plain": [
       "11001"
      ]
     },
     "execution_count": 56,
     "metadata": {},
     "output_type": "execute_result"
    }
   ],
   "source": [
    "Binario(25)"
   ]
  },
  {
   "cell_type": "code",
   "execution_count": 58,
   "id": "3f930630-d3a7-4a4b-9f11-6a1a79f36f81",
   "metadata": {},
   "outputs": [
    {
     "data": {
      "text/plain": [
       "'11001'"
      ]
     },
     "execution_count": 58,
     "metadata": {},
     "output_type": "execute_result"
    }
   ],
   "source": [
    "bin(25)[2:]"
   ]
  }
 ],
 "metadata": {
  "kernelspec": {
   "display_name": "Python 3 (ipykernel)",
   "language": "python",
   "name": "python3"
  },
  "language_info": {
   "codemirror_mode": {
    "name": "ipython",
    "version": 3
   },
   "file_extension": ".py",
   "mimetype": "text/x-python",
   "name": "python",
   "nbconvert_exporter": "python",
   "pygments_lexer": "ipython3",
   "version": "3.9.13"
  }
 },
 "nbformat": 4,
 "nbformat_minor": 5
}
