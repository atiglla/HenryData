{
 "cells": [
  {
   "cell_type": "markdown",
   "metadata": {},
   "source": [
    "### Lista Enlazada simple en Python\n",
    "\n",
    "¿En qué podemos usar las listas enlazadas?\n",
    "\n",
    "Una lista enlazada es la estructura de datos fundamentales y puede ser usada para implementarse en otras estructuras de datos. Son secuencias de nodos, los que se guardan campos de datos arbitrarios y una o dos referencias, enlaces o punteros al nodo anterior o posterior. Las listas tienen varios beneficios, pero el beneficio principal de las listas enlazadas puede ser diferente al orden de almacenamiento en la memoria o el disco, esto le permite que el orden de recorrido sea diferente al de almacenamiento.\n",
    "\n",
    "Las listas enlazadas son un tipo de dato autor referenciado porque contienen un puntero, también conocido como enlace, a otro dato del mismo tipo. Las listas enlazadas permiten agregar y eliminar nodos en cualquier punto de la lista en tiempo constante, siempre y cuando estén ya definidos o se puedan localizar; lo que no permite es un acceso aleatorio. Existen diferentes tipos de listas enlazadas, como la lista simple enlazada, la lista doble enlazada, la lista circular simple enlazada y la lista doble enlazada.\n",
    "\n",
    "[Para que sirven las listas enlazadas en Python?](https://delfino.cr/2022/08/uso-practico-de-las-listas-enlazadas-para-implementar-estructuras-de-datos)\n",
    "\n",
    "[Listas enlazadas, implementación en Python](https://pythondiario.com/2018/07/linked-list-listas-enlazadas.html#:~:text=Las%20listas%20vinculadas%20permiten%20la,el%20recorrido%20de%20la%20lista.)\n",
    "\n",
    "[Lista enlazada en Python - Estructura de Datos](https://www.youtube.com/watch?v=CPphH7-iZio)\n",
    "\n",
    "[LISTAS ENLAZADAS en Python | Estructuras de datos en Python](https://www.youtube.com/watch?v=fjTKSxQIWV8)"
   ]
  },
  {
   "cell_type": "code",
   "execution_count": 1,
   "metadata": {},
   "outputs": [],
   "source": [
    "class Node:\n",
    "    def __init__(self, val):\n",
    "        ## Inicializamos la variable data automáticamente cada vez que llamamos a la clase Node y le asignamos un valor\n",
    "        self.data = val\n",
    "        ## Y por defecto le decimos que el primer siguiente al que apunta, es None\n",
    "        self.next = None\n",
    "\n",
    "    def getData(self):\n",
    "        ## getData, nos devuelve el valor que almacenamos en la variable data\n",
    "        return self.data\n",
    "\n",
    "    def getNext(self):\n",
    "        ## getNext, nos devuelve la información de a que valor apunta\n",
    "        return self.next\n",
    "\n",
    "    def setData(self, val):\n",
    "        ## Con setData podemos asignarle un nuevo valor a nuestra variable existente\n",
    "        self.data = val\n",
    "\n",
    "    def setNext(self, val):\n",
    "        ## Con setNext, podemos modificarle a que nodo apunta\n",
    "        self.next = val"
   ]
  },
  {
   "cell_type": "code",
   "execution_count": 2,
   "metadata": {},
   "outputs": [
    {
     "name": "stdout",
     "output_type": "stream",
     "text": [
      "google\n",
      "None\n",
      "<__main__.Node object at 0x0000028DA5292488>\n"
     ]
    }
   ],
   "source": [
    "# fabricamos el primer nodo\n",
    "n1 = Node(\"google\")\n",
    "## Fabrico otro nodo:\n",
    "n2 = Node(\"Spotify\")\n",
    "## Si quiero obtener la informacion del nodo n1, es decir ver que es lo que tiene, le vamos a decir:\n",
    "print(n1.getData())\n",
    "## Si quiero ver que le sigue a n1, le digo lo siguiente: ---> Si arroja un None, es porque no apunta a nada <---\n",
    "print(n1.getNext())\n",
    "n1.setNext(n2)\n",
    "print(n1.getNext())"
   ]
  },
  {
   "cell_type": "code",
   "execution_count": 7,
   "metadata": {},
   "outputs": [],
   "source": [
    "## EJEMPLO\n",
    "n1 = Node(\"www.Google.com\")\n",
    "n2 = Node(\"www.Spotify.com\")\n",
    "n3 = Node(\"www.Wikipedia.com\")\n",
    "n4 = Node(\"www.youtube.com/Tutoriales de Corey Schafer\")\n",
    "n5 = Node(\"www.youtube.com/píldorasinformáticas\")"
   ]
  },
  {
   "cell_type": "code",
   "execution_count": 8,
   "metadata": {},
   "outputs": [],
   "source": [
    "## Le decimos al nodo 1 que apunte al nodo 2\n",
    "n1.setNext(n2)\n",
    "## Y le decimos al nodo 2 que apunte al nodo 3\n",
    "n2.setNext(n3)\n",
    "## nodo 3 al nodo 4\n",
    "n3.setNext(n4)\n",
    "## nodo 4 al nodo 5\n",
    "n4.setNext(n5)"
   ]
  },
  {
   "cell_type": "code",
   "execution_count": 9,
   "metadata": {},
   "outputs": [
    {
     "data": {
      "text/plain": [
       "<__main__.Node at 0x28da603bb48>"
      ]
     },
     "execution_count": 9,
     "metadata": {},
     "output_type": "execute_result"
    }
   ],
   "source": [
    "#le pregunto al nodo n1 a que está apuntando? Y me retorna al espacio en la memoria a donde está dirigido.\n",
    "n1.getNext()"
   ]
  },
  {
   "cell_type": "code",
   "execution_count": 6,
   "metadata": {},
   "outputs": [
    {
     "name": "stdout",
     "output_type": "stream",
     "text": [
      "<__main__.Node object at 0x0000028DA5292A48>\n",
      "<__main__.Node object at 0x0000028DA52923C8>\n",
      "None\n"
     ]
    }
   ],
   "source": [
    "## Si queremos ver que le sigue al nodo1, al nodo 2 y al nodo 3. Veamos que pasa\n",
    "print(n1.getNext())\n",
    "print(n2.getNext())\n",
    "## n5, nos da que no apunta a nada, porque nunca creamos el n6\n",
    "print(n5.getNext())"
   ]
  },
  {
   "cell_type": "code",
   "execution_count": 11,
   "metadata": {},
   "outputs": [],
   "source": [
    "class LinkedList:\n",
    "    def __init__(self):\n",
    "        ## Iniciamos nuestra Linked List. Y lo primero que vamos a tener, va a ser un head, que no está apuntando a nada\n",
    "        self.head = None\n",
    "\n",
    "    def isEmpty(self):\n",
    "        \"\"\"podemos hacer es chequear si nuestra lista está vacía\"\"\"\n",
    "        if (self.head == None):\n",
    "            return True\n",
    "        else:\n",
    "            return False\n",
    "\n",
    "    def add(self, item):\n",
    "        \"\"\"Añadir un item a la lista, generamos un nuevo nodo. Luego el nuevo nodo, va a ser el\n",
    "           siguiente de mi head.\n",
    "        \"\"\"\n",
    "        new_node = Node(item)\n",
    "        \"\"\"El nuevo nodo, se le setea al next\"\"\"\n",
    "        new_node.setNext(self.head)\n",
    "        \"\"\"Y el head, pasa a ser el nuevo nodo\"\"\"\n",
    "        self.head = new_node\n",
    "\n",
    "    def size(self):\n",
    "        \"\"\"Contamos la cantidad de elementos que tenemos en la lista.\n",
    "           Comenzamos en 0, y por cada iteración vamos sumando 1.\n",
    "        \"\"\"\n",
    "        count = 0\n",
    "        \"\"\"Comenzamos en el head\"\"\"\n",
    "        current = self.head\n",
    "        \"\"\"Y empezamos a contar. Mientras tengamos algo en el nodo, sumamos 1\"\"\"\n",
    "        while (not(current == None)):\n",
    "            count += 1 \n",
    "            \"\"\"Por cada iteracion vamos cambiando el puntero\"\"\"\n",
    "            current = current.getNext()\n",
    "            \"\"\"Cuando el current es == a None, sale de la iteración\n",
    "            Y devuelve la cantidad de nodos que fué encontrando.\"\"\"\n",
    "        return count\n",
    "\n",
    "    def search(self, item):\n",
    "        \"\"\"Iterar sobre la lista para encontrar un valor. Si se encuentra dicho valor\n",
    "            retorna un True, si no retorna un False.\"\"\"\n",
    "        current = self.head # Se define nuevamente al puntero current como el head\n",
    "        found = False # y definimos a found = False, porque todavía no encontró nada\n",
    "        \"\"\"Entonces, vamos iterando sobre la lista, si no es None y no es False, entonces\n",
    "           me cambia el found a True, que indica que lo encontramos\"\"\"\n",
    "        while ((current != None) and (not found)):\n",
    "            if current.getData() is item:\n",
    "                found = True\n",
    "            ## Una vez que lo encuentra, el current pasa al próximo\n",
    "            else:\n",
    "                current = current.getNext()\n",
    "        return found\n",
    "\n",
    "    def remove(self, item):\n",
    "        \"\"\"Se puede remover un item, es decir, un nodo.\n",
    "            Le podemos decir, buscame \"Google.com\", y lo eliminas. \n",
    "            Si el item no se encontró en la lista, me arroja un Value Error\"\"\"\n",
    "        current = self.head # comenzamos desde el head, que es el puntero. En este caso el current\n",
    "        previous = None # El previous va a ser un None, porque justamente, vamos a estar empezando desde 0 con el current\n",
    "        found = False # Iniciamos, el buscador con un False.\n",
    "        \"\"\"Mientras current NO sea None y Verdadero entonces...\"\"\"\n",
    "        while((current != None) and (not found)):\n",
    "            \"\"\"Si el current, osea donde estamos parados, es el ítem buscao, indica que lo encontramos. \n",
    "            Cambia el valor de found a True.\"\"\"\n",
    "            if(current.getData() == item):\n",
    "                found = True\n",
    "            #Y en caso contrario, el previous, nos va guardando el anterior al que vamos recorriendo. \n",
    "            # Entonces guardo cual es el actual y le decimos, ahora saltá al siguiente.\n",
    "            # Por ejemplo, si estamos en el nodo 1, el previous va a ser el nodo 1 y el current nos va a apuntar al\n",
    "            # nodo 2\n",
    "            else:\n",
    "                previous = current\n",
    "                current = current.getNext()\n",
    "        if found: ## Si encuentro el valor\n",
    "            if(previous == None): ## Y si a ese valor no le antecedía nada. Osea si estabamos ubicados en el primer valor\n",
    "                self.head = current.getNext() # El head pasa a ser el siguiente del current\n",
    "            else: # Y en el caso de que tenga algo anteriormente, le decimos que el anterior, me setee lo que le sigue\n",
    "                previous.setNext(current.getNext())\n",
    "        else:\n",
    "            raise ValueError # Si no lo encuentra, me arroja Value not found\n",
    "            print('Value not found.')\n",
    "\n",
    "    def insert(self, position, item):\n",
    "        \"\"\"\n",
    "        Le digo que me inserte un valor en determinada posición. \n",
    "        Como primera salvedad, si le digo que me inserte el valor en una posición que es \n",
    "        es mas larga que lo que tenemos, le digo que me arroje un error de posición.\n",
    "        Que el índice está fuera del rango de nuestra lista\n",
    "        ---> IndexError\n",
    "        \"\"\"\n",
    "        if position > self.size() - 1:\n",
    "            raise IndexError\n",
    "            print('Index out of bounds.')\n",
    "         ## En caso contrario, osea que el rango esté bien, el current comienza en el head\n",
    "        current = self.head\n",
    "        ## No le antecede nada (porque es el primer valor)\n",
    "        previous = None\n",
    "         ## Y la posición comienza en el cero\n",
    "        pos = 0\n",
    "        ## Si la posición es 0, básicamente sería como añadir un valor (como la función add)\n",
    "        if position == 0:\n",
    "            self.add(item)\n",
    "        else: ## Si ocurre otra cosa, declaro un nuevo nodo\n",
    "            new_node = Node(item)\n",
    "            # Acá vamos corriendo hasta llegar a la posición. La posicion es la que ingresa por teclado\n",
    "            # La posicion que voy corriendo como puntero está iniciada en 0. Mientras no llegue a la posición\n",
    "            # voy sumando una posición\n",
    "            while pos < position:\n",
    "                pos += 1\n",
    "                # En el previous, guardo en donde estoy \"ahora\" osea justo antes del nuevo current\n",
    "                previous = current\n",
    "                #  Ahora el current es el siguiente nodo\n",
    "                current = current.getNext()\n",
    "            # Una vez que se llegue al previous, que me apunte al nuevo nodo\n",
    "            previous.setNext(new_node)\n",
    "            # Y que el nuevo nodo, me apunte al current, osea en donde estoy ahora\n",
    "            new_node.setNext(current)\n",
    "\n",
    "    def index(self, item):\n",
    "        \"\"\"\n",
    "        Queremos ver en que indice esta cierto valor que le preguntamos\n",
    "        \"\"\"\n",
    "        current = self.head # comenzamos desde el head, que es el puntero. En este caso el current\n",
    "        pos = 0 # Iniciamos la posición en 0 y la usamos como contador \n",
    "        found = False # Le decimos que de momento no encontró nada (porque todavía no buscó nada)\n",
    "        # Mientras mi lista tenga algo y todavía no encuentre el valor\n",
    "        while ((current != None) and (not found)):\n",
    "            if (current.getData() == item):\n",
    "                found = True\n",
    "            else:\n",
    "                current = current.getNext() # Devuelve la información del valor al que apunta\n",
    "                pos += 1 # Sumamos 1 al contador\n",
    "        if found:\n",
    "            pass\n",
    "        else:\n",
    "            pos = None\n",
    "        return pos\n",
    "\n",
    "    def pop(self, position = None):\n",
    "        \"\"\"\n",
    "        Si no se proporciona ningún argumento, devuelva y elimine el elemento\n",
    "        del head. Si se proporciona la posición, devuelva y retire el artículo \n",
    "        en esa posición.\n",
    "        Si el índice está fuera de los límites, retorna el IndexError\n",
    "        \"\"\"\n",
    "        current = self.head # comenzamos desde el head, que es el puntero. En este caso el current\n",
    "        if (position == None): # si no tenemos posicion\n",
    "            ret = current.getData() # El ret, que es lo que estamos retornando, sería ahora el head\n",
    "            self.head = current.getNext() # Y el head sería el siguiente\n",
    "        else: # la posicion es mayor a nuestro tamaño de lista, que retorne un error de Indice (IndexError)\n",
    "            if position > self.size():\n",
    "                print('Index out of bounds')\n",
    "                raise IndexError\n",
    "            # Si no entra en el if de el error de rango:\n",
    "            # definimos la posición en 0\n",
    "            pos = 0 \n",
    "            previous = None # previamente no tenemos nada\n",
    "            while pos < position: # Mientras no llegue a la posción\n",
    "                previous = current # voy a ir cambiando de nodo a nodo, entonces el previous va a ser donde estoy ahora\n",
    "                current = current.getNext() # Y donde estoy ahora va a ser el siguiente nodo\n",
    "                pos += 1 # me muevo una posición\n",
    "                ret = current.getData()# Y el valor de retorno va a ser ret.\n",
    "            previous.setNext(current.getNext())\n",
    "        return ret\n",
    "\n",
    "    def append(self, item):\n",
    "        \"\"\"Le queremos decir que añada un nuevo ítem al final de la lista\"\"\"\n",
    "        current = self.head # Comienzo en el head\n",
    "        previous = None # Anteriormente no tengo nada\n",
    "        pos = 0 # Comienzo en el cero\n",
    "        length = self.size() # Y le pasamos el tamaño para saber que tanto hay que recorrer\n",
    "        while pos < length: # Mientras no llegue al final de la lista\n",
    "            previous = current # guarda el valor anterior con el actual\n",
    "            current = current.getNext() # El actual ahora es el próximo\n",
    "            pos += 1 # Se le suma 1 a la posición\n",
    "        # Entonces cuando llego al final de la lista, llego al valor length, me salgo de ese while\n",
    "        new_node = Node(item) # Y lo que hago es que genere un nuevo nodo con el ítem que le pasamos al append\n",
    "        if (previous == None): # Y si no teníamos nada anteriormente (osea lista vacía)\n",
    "            new_node.setNext(current) # el nuevo nodo, va a apuntar en donde estoy ahora\n",
    "            self.head = new_node # Y el head, va a ser el siguiente nodo\n",
    "        else:\n",
    "            previous.setNext(new_node)\n",
    "\n",
    "    def printList(self):\n",
    "        \"\"\"Print the list\"\"\"\n",
    "        current = self.head # Comenzamos nuestro puntero en el head\n",
    "        while (not(current == None)): # Mientras tengamos algo, imprimimos el current\n",
    "            print(current.getData())\n",
    "            current = current.getNext()"
   ]
  },
  {
   "cell_type": "code",
   "execution_count": 12,
   "metadata": {},
   "outputs": [],
   "source": [
    "lis = LinkedList()"
   ]
  },
  {
   "cell_type": "code",
   "execution_count": 13,
   "metadata": {},
   "outputs": [
    {
     "data": {
      "text/plain": [
       "True"
      ]
     },
     "execution_count": 13,
     "metadata": {},
     "output_type": "execute_result"
    }
   ],
   "source": [
    "lis.isEmpty()"
   ]
  },
  {
   "cell_type": "code",
   "execution_count": 14,
   "metadata": {},
   "outputs": [],
   "source": [
    "lis.add('rojo')"
   ]
  },
  {
   "cell_type": "code",
   "execution_count": 15,
   "metadata": {},
   "outputs": [
    {
     "data": {
      "text/plain": [
       "1"
      ]
     },
     "execution_count": 15,
     "metadata": {},
     "output_type": "execute_result"
    }
   ],
   "source": [
    "lis.size()"
   ]
  },
  {
   "cell_type": "code",
   "execution_count": 16,
   "metadata": {},
   "outputs": [],
   "source": [
    "lis.add('azul')\n",
    "lis.add('blanco')\n",
    "lis.add('verde')"
   ]
  },
  {
   "cell_type": "code",
   "execution_count": 19,
   "metadata": {},
   "outputs": [
    {
     "name": "stdout",
     "output_type": "stream",
     "text": [
      "verde\n",
      "blanco\n",
      "azul\n",
      "rojo\n"
     ]
    }
   ],
   "source": [
    "lis.printList()"
   ]
  },
  {
   "cell_type": "code",
   "execution_count": 17,
   "metadata": {},
   "outputs": [
    {
     "data": {
      "text/plain": [
       "True"
      ]
     },
     "execution_count": 17,
     "metadata": {},
     "output_type": "execute_result"
    }
   ],
   "source": [
    "lis.search('rojo')"
   ]
  },
  {
   "cell_type": "code",
   "execution_count": 18,
   "metadata": {},
   "outputs": [
    {
     "data": {
      "text/plain": [
       "3"
      ]
     },
     "execution_count": 18,
     "metadata": {},
     "output_type": "execute_result"
    }
   ],
   "source": [
    "lis.index('rojo')"
   ]
  },
  {
   "cell_type": "code",
   "execution_count": 38,
   "metadata": {},
   "outputs": [
    {
     "data": {
      "text/plain": [
       "False"
      ]
     },
     "execution_count": 38,
     "metadata": {},
     "output_type": "execute_result"
    }
   ],
   "source": [
    "lis.search('amarillo')"
   ]
  },
  {
   "cell_type": "code",
   "execution_count": 39,
   "metadata": {},
   "outputs": [],
   "source": [
    "lis.remove('rojo')"
   ]
  },
  {
   "cell_type": "code",
   "execution_count": 40,
   "metadata": {},
   "outputs": [
    {
     "data": {
      "text/plain": [
       "False"
      ]
     },
     "execution_count": 40,
     "metadata": {},
     "output_type": "execute_result"
    }
   ],
   "source": [
    "lis.search('rojo')"
   ]
  },
  {
   "cell_type": "code",
   "execution_count": 41,
   "metadata": {},
   "outputs": [
    {
     "name": "stdout",
     "output_type": "stream",
     "text": [
      "verde\n",
      "blanco\n",
      "azul\n"
     ]
    }
   ],
   "source": [
    "lis.printList()"
   ]
  },
  {
   "cell_type": "code",
   "execution_count": 42,
   "metadata": {},
   "outputs": [],
   "source": [
    "lis.insert(2,'rojo')"
   ]
  },
  {
   "cell_type": "code",
   "execution_count": 43,
   "metadata": {},
   "outputs": [
    {
     "name": "stdout",
     "output_type": "stream",
     "text": [
      "verde\n",
      "blanco\n",
      "rojo\n",
      "azul\n"
     ]
    }
   ],
   "source": [
    "lis.printList()"
   ]
  },
  {
   "cell_type": "code",
   "execution_count": 44,
   "metadata": {},
   "outputs": [
    {
     "data": {
      "text/plain": [
       "1"
      ]
     },
     "execution_count": 44,
     "metadata": {},
     "output_type": "execute_result"
    }
   ],
   "source": [
    "lis.index('blanco')"
   ]
  },
  {
   "cell_type": "code",
   "execution_count": 14,
   "metadata": {},
   "outputs": [
    {
     "data": {
      "text/plain": [
       "'verde'"
      ]
     },
     "execution_count": 14,
     "metadata": {},
     "output_type": "execute_result"
    }
   ],
   "source": [
    "lis.pop()"
   ]
  },
  {
   "cell_type": "code",
   "execution_count": 47,
   "metadata": {},
   "outputs": [
    {
     "name": "stdout",
     "output_type": "stream",
     "text": [
      "blanco\n",
      "rojo\n",
      "azul\n"
     ]
    }
   ],
   "source": [
    "lis.printList()"
   ]
  },
  {
   "cell_type": "code",
   "execution_count": 48,
   "metadata": {},
   "outputs": [],
   "source": [
    "lis.append('verde')"
   ]
  },
  {
   "cell_type": "code",
   "execution_count": 49,
   "metadata": {},
   "outputs": [
    {
     "name": "stdout",
     "output_type": "stream",
     "text": [
      "blanco\n",
      "rojo\n",
      "azul\n",
      "verde\n"
     ]
    }
   ],
   "source": [
    "lis.printList()"
   ]
  },
  {
   "cell_type": "code",
   "execution_count": 50,
   "metadata": {},
   "outputs": [],
   "source": [
    "lis.add('negro')"
   ]
  },
  {
   "cell_type": "code",
   "execution_count": 51,
   "metadata": {},
   "outputs": [
    {
     "name": "stdout",
     "output_type": "stream",
     "text": [
      "negro\n",
      "blanco\n",
      "rojo\n",
      "azul\n",
      "verde\n"
     ]
    }
   ],
   "source": [
    "lis.printList()"
   ]
  }
 ],
 "metadata": {
  "kernelspec": {
   "display_name": "Python 3.7.6",
   "language": "python",
   "name": "python3"
  },
  "language_info": {
   "codemirror_mode": {
    "name": "ipython",
    "version": 3
   },
   "file_extension": ".py",
   "mimetype": "text/x-python",
   "name": "python",
   "nbconvert_exporter": "python",
   "pygments_lexer": "ipython3",
   "version": "3.7.6"
  },
  "orig_nbformat": 4,
  "vscode": {
   "interpreter": {
    "hash": "56ce8b4fc63a9731d8c8c293535025508b180a5212d5e29eebd83dd171f35399"
   }
  }
 },
 "nbformat": 4,
 "nbformat_minor": 2
}
