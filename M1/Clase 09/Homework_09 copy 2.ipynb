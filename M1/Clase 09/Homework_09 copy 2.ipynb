{
 "cells": [
  {
   "cell_type": "markdown",
   "metadata": {},
   "source": [
    "# Práctica Clase 9"
   ]
  },
  {
   "cell_type": "markdown",
   "metadata": {},
   "source": [
    "<h2>Grafos</h2>\n",
    "<p>En la imagen se representa un grafo, para el cuál deberas hacer la representación en su matríz de adyacencia y utilizar la clase Grafos provista, para calcular la distancia de un vértice hacia todos los demás</p>\n",
    "<img src=\"grafos_ejemplo.jpg\" height=\"200px\">\n"
   ]
  },
  {
   "cell_type": "code",
   "execution_count": null,
   "metadata": {},
   "outputs": [],
   "source": [
    "import sys\n",
    "\n",
    "class Graph():\n",
    "    def __init__(self, vertx):\n",
    "      self.V = vertx\n",
    "      self.graph = [[0 for column in range(vertx)]\n",
    "                      for row in range(vertx)]\n",
    "                      \n",
    "    def pSol(self, dist):\n",
    "        print(\"Distancia del vértice desde el orígen\")\n",
    "        for node in range(self.V):\n",
    "            print(node, \"t\", dist[node])\n",
    "\n",
    "    def minDistance(self, dist, sptSet):\n",
    "        min = sys.maxsize\n",
    "        for v in range(self.V):\n",
    "            if dist[v] < min and sptSet[v] == False:\n",
    "                min = dist[v]\n",
    "                min_index = v\n",
    "        return min_index\n",
    " \n",
    "    def dijk(self, source):\n",
    "        dist = [sys.maxsize] * self.V\n",
    "        dist[source] = 0\n",
    "        sptSet = [False] * self.V\n",
    "        for cout in range(self.V):\n",
    "            u = self.minDistance(dist, sptSet)\n",
    "            sptSet[u] = True\n",
    "            for v in range(self.V):\n",
    "                if ((self.graph[u][v] > 0) \n",
    "                    and (sptSet[v] == False) \n",
    "                    and (dist[v] > dist[u] + self.graph[u][v])):\n",
    "                    dist[v] = dist[u] + self.graph[u][v]\n",
    "        self.pSol(dist)"
   ]
  },
  {
   "cell_type": "code",
   "execution_count": null,
   "metadata": {},
   "outputs": [],
   "source": [
    "f = Graph(5)\n",
    "f.graph"
   ]
  },
  {
   "cell_type": "code",
   "execution_count": null,
   "metadata": {},
   "outputs": [],
   "source": [
    "f.graph = [[0, 1, 0, 0, 0],\n",
    "           [1, 0, 2, 3, 0],\n",
    "           [0, 1, 0, 0, 0],\n",
    "           [0, 1, 0, 0, 1],\n",
    "           [0, 0, 0, 1, 0]]"
   ]
  },
  {
   "cell_type": "code",
   "execution_count": null,
   "metadata": {},
   "outputs": [],
   "source": [
    "f.dijk(1)"
   ]
  }
 ],
 "metadata": {
  "interpreter": {
   "hash": "11938c6bc6919ae2720b4d5011047913343b08a43b18698fd82dedb0d4417594"
  },
  "kernelspec": {
   "display_name": "Python 3.9.7 64-bit",
   "language": "python",
   "name": "python3"
  },
  "language_info": {
   "codemirror_mode": {
    "name": "ipython",
    "version": 3
   },
   "file_extension": ".py",
   "mimetype": "text/x-python",
   "name": "python",
   "nbconvert_exporter": "python",
   "pygments_lexer": "ipython3",
   "version": "3.9.7"
  }
 },
 "nbformat": 4,
 "nbformat_minor": 4
}
