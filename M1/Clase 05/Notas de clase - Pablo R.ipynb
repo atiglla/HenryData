{
 "cells": [
  {
   "cell_type": "code",
   "execution_count": 32,
   "metadata": {},
   "outputs": [],
   "source": [
    "class Estructura_Pila(object):\n",
    "    def __init__(self):\n",
    "        self.__list = []\n",
    " \n",
    "    # Agregar un elemento a la Pila\n",
    "    def push(self, item):\n",
    "        self.__list.append(item)\n",
    " \n",
    "     # Quitar un elemento de la Pila\n",
    "    def pop(self):\n",
    "        return self.__list.pop()\n",
    " \n",
    "    # Obtener el elemento superior de la pila\n",
    "    def peek(self):\n",
    "        if self.__list:\n",
    "            return self.__list[-1]\n",
    "        else:\n",
    "            return None\n",
    " \n",
    "    # Determinar si la Pila está vacía\n",
    "    def is_empty(self):\n",
    "        return self.__list == []\n",
    " \n",
    "    # Devuelve el número de elementos en la Pila\n",
    "    def size(self):\n",
    "        return len(self.__list)"
   ]
  },
  {
   "cell_type": "code",
   "execution_count": 33,
   "metadata": {},
   "outputs": [
    {
     "data": {
      "text/plain": [
       "(5, 5)"
      ]
     },
     "execution_count": 33,
     "metadata": {},
     "output_type": "execute_result"
    }
   ],
   "source": [
    "a = [1, 3, 45,5]\n",
    "a[len(a)-1], a[-1]"
   ]
  },
  {
   "cell_type": "code",
   "execution_count": 34,
   "metadata": {},
   "outputs": [
    {
     "data": {
      "text/plain": [
       "True"
      ]
     },
     "execution_count": 34,
     "metadata": {},
     "output_type": "execute_result"
    }
   ],
   "source": [
    "s = Estructura_Pila() #instancia de una clase Estructura_Pila()\n",
    "s.is_empty()"
   ]
  },
  {
   "cell_type": "code",
   "execution_count": 35,
   "metadata": {},
   "outputs": [
    {
     "data": {
      "text/plain": [
       "False"
      ]
     },
     "execution_count": 35,
     "metadata": {},
     "output_type": "execute_result"
    }
   ],
   "source": [
    "s.push(0)\n",
    "s.is_empty()"
   ]
  },
  {
   "cell_type": "code",
   "execution_count": 36,
   "metadata": {},
   "outputs": [],
   "source": [
    "s.push(1)\n",
    "s.push(2)\n",
    "s.push(3)\n",
    "s.push(4)\n",
    "s.push(5)"
   ]
  },
  {
   "cell_type": "code",
   "execution_count": 37,
   "metadata": {},
   "outputs": [
    {
     "data": {
      "text/plain": [
       "5"
      ]
     },
     "execution_count": 37,
     "metadata": {},
     "output_type": "execute_result"
    }
   ],
   "source": [
    "s.peek()"
   ]
  },
  {
   "cell_type": "code",
   "execution_count": 38,
   "metadata": {},
   "outputs": [
    {
     "name": "stdout",
     "output_type": "stream",
     "text": [
      "5\n",
      "4\n",
      "3\n"
     ]
    }
   ],
   "source": [
    "print(s.pop()) # Muestra 5\n",
    "print(s.pop()) # Muestra 4\n",
    "print(s.pop()) # Muestra 3"
   ]
  },
  {
   "cell_type": "code",
   "execution_count": 64,
   "metadata": {},
   "outputs": [],
   "source": [
    "class Estructura_Cola(object):\n",
    "    def __init__(self):\n",
    "        self.__list = []\n",
    "    \n",
    "    # Agregar un elemento a la cola\n",
    "    def enqueue(self, item):\n",
    "        self.__list.append(item)\n",
    "\n",
    "    # Quitar un elemento de la cola\n",
    "    def dequeue(self):\n",
    "        return self.__list.pop(0)\n",
    "    \n",
    "    # Ver el primer elemento\n",
    "    def first(self):\n",
    "        if self.__list:\n",
    "            return self.__list[0]\n",
    "        else:\n",
    "            return None\n",
    "    \n",
    "    # Verificar si está vacía\n",
    "    def is_empty(self):\n",
    "        return self.__list == []\n",
    "    \n",
    "    # Devolver la cantidad de elementos de la cola\n",
    "    def size(self):\n",
    "        return len(self.__list)"
   ]
  },
  {
   "cell_type": "code",
   "execution_count": 55,
   "metadata": {},
   "outputs": [],
   "source": [
    "q = Estructura_Cola()"
   ]
  },
  {
   "cell_type": "code",
   "execution_count": 56,
   "metadata": {},
   "outputs": [
    {
     "data": {
      "text/plain": [
       "True"
      ]
     },
     "execution_count": 56,
     "metadata": {},
     "output_type": "execute_result"
    }
   ],
   "source": [
    "q.is_empty()"
   ]
  },
  {
   "cell_type": "code",
   "execution_count": 57,
   "metadata": {},
   "outputs": [],
   "source": [
    "for i in range(0,6):\n",
    "    q.enqueue(i)"
   ]
  },
  {
   "cell_type": "code",
   "execution_count": 47,
   "metadata": {},
   "outputs": [
    {
     "name": "stdout",
     "output_type": "stream",
     "text": [
      "0\n",
      "1\n",
      "2\n"
     ]
    }
   ],
   "source": [
    "for j in range(0,3):\n",
    "    print(q.dequeue())"
   ]
  },
  {
   "cell_type": "code",
   "execution_count": 58,
   "metadata": {},
   "outputs": [],
   "source": [
    "df_a = [0, 1, 2, 4]\n",
    "df_b = [0,1]"
   ]
  },
  {
   "cell_type": "code",
   "execution_count": 59,
   "metadata": {},
   "outputs": [
    {
     "data": {
      "text/plain": [
       "'Solo recibo int'"
      ]
     },
     "execution_count": 59,
     "metadata": {},
     "output_type": "execute_result"
    }
   ],
   "source": [
    "q.enqueue(df_a)"
   ]
  },
  {
   "cell_type": "code",
   "execution_count": 51,
   "metadata": {},
   "outputs": [],
   "source": [
    "q.enqueue(df_b)"
   ]
  },
  {
   "cell_type": "code",
   "execution_count": 52,
   "metadata": {},
   "outputs": [
    {
     "data": {
      "text/plain": [
       "5"
      ]
     },
     "execution_count": 52,
     "metadata": {},
     "output_type": "execute_result"
    }
   ],
   "source": [
    "q.dequeue()\n",
    "q.dequeue()\n",
    "q.dequeue()"
   ]
  },
  {
   "cell_type": "code",
   "execution_count": 53,
   "metadata": {},
   "outputs": [
    {
     "data": {
      "text/plain": [
       "[0, 1, 2, 4]"
      ]
     },
     "execution_count": 53,
     "metadata": {},
     "output_type": "execute_result"
    }
   ],
   "source": [
    "q.first()"
   ]
  },
  {
   "cell_type": "code",
   "execution_count": 65,
   "metadata": {},
   "outputs": [
    {
     "data": {
      "text/plain": [
       "'B'"
      ]
     },
     "execution_count": 65,
     "metadata": {},
     "output_type": "execute_result"
    }
   ],
   "source": [
    "input_queue = Estructura_Cola()\n",
    "# The player wants to get the upper hand so pressing the right combination of buttons quickly\n",
    "input_queue.enqueue('DOWN')\n",
    "input_queue.enqueue('RIGHT')\n",
    "input_queue.enqueue('B')\n",
    "# Now we can process each item in the queue by dequeueing them\n",
    "key_pressed = input_queue.dequeue() # 'DOWN'\n",
    "# We'll probably change our player position\n",
    "key_pressed = input_queue.dequeue() # 'RIGHT'\n",
    "# We'll change the player's position again and keep track of a potential special move to perform\n",
    "key_pressed = input_queue.dequeue() # 'B'\n",
    "# This can do the act, but the game's logic will know to do the special move\n",
    "key_pressed"
   ]
  },
  {
   "cell_type": "code",
   "execution_count": null,
   "metadata": {},
   "outputs": [],
   "source": []
  }
 ],
 "metadata": {
  "kernelspec": {
   "display_name": "Python 3.10.5 ('DS-M1-xLgVqlNx')",
   "language": "python",
   "name": "python3"
  },
  "language_info": {
   "codemirror_mode": {
    "name": "ipython",
    "version": 3
   },
   "file_extension": ".py",
   "mimetype": "text/x-python",
   "name": "python",
   "nbconvert_exporter": "python",
   "pygments_lexer": "ipython3",
   "version": "3.10.5"
  },
  "orig_nbformat": 4,
  "vscode": {
   "interpreter": {
    "hash": "4d095b7a565530e2c76f54ff84e61482eede908574175653a3ec0f3a59ffad15"
   }
  }
 },
 "nbformat": 4,
 "nbformat_minor": 2
}
