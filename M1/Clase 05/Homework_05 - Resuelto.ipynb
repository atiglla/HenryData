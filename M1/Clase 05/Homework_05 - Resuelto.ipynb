{
 "cells": [
  {
   "cell_type": "markdown",
   "metadata": {},
   "source": [
    "# Práctica Clase 5"
   ]
  },
  {
   "cell_type": "markdown",
   "metadata": {},
   "source": [
    "1) Implementar un juego, que consista en apilar números enteros del 1 al 20, de forma aleatoria, para lo cual debe usarse una estructura de Pila. \n",
    "Luego, el usuario debe elegir un número de veces en que se va a quitar elementos de la pila, los cuales, sumados entre sí, no deben superar el valor de 50.\n",
    "El usuario pierde si la suma supera ese valor. Si no lo supera, gana, pero su calificación será 10 menos el número elementos que falten quitar para todavía no superar 50.\n",
    "El programa debe informar si perdió, y si ganó, con qué calificación lo hizo.\n",
    "\n",
    "Consideraciones:<br>\n",
    "a. Se puede usar la función input() para obtener una entrada de teclado.<br>\n",
    "b. Se puede usar la el modulo random para obtener valores aleatorios."
   ]
  },
  {
   "cell_type": "code",
   "execution_count": 13,
   "metadata": {},
   "outputs": [],
   "source": [
    "# Opción 1\n",
    "import numpy as np\n",
    "\n",
    "class Juego_Pilas:\n",
    "    def __init__(self):\n",
    "        self.__list = []\n",
    "    \n",
    "    def crear_Pila(self):\n",
    "        self.numeros = [] # Creamos la lista vacía\n",
    "        self.numeros = np.arange(1,21) # Creamos un numpy array del 1 al 21 (sin incluir el 21)\n",
    "        np.random.shuffle(self.numeros) # El shuffle lo que hace es mezclar los números\n",
    "        self.numeros = list(self.numeros) # Enlistamos los numeros del arreglo\n",
    "        print('La pila es:',self.numeros) # Imprimimos la lista\n",
    "    \n",
    "    def suma_Elementos(self, elementos): # Siendo elementos la variable definida en la funcion Jugar()\n",
    "        self.i = 1 # Iniciamos un i, para iterar los valores hasta la cantidad de elementos que le dijimos\n",
    "        self.suma = 0 # Iniciamos la suma (como un contador), para acumular la cantidad de iteraciones\n",
    "        # Por ejemplo, si le dijimos que vamos a sacar 3 elementos, el i va hasta 3 y esa va a ser la cantidad\n",
    "        # de elementos que vamos a retirar de la lista incial.\n",
    "        while (self.i <= elementos):\n",
    "            # Lo que hace el pop, es eliminar del final de la lista el último valor, y en la variable suma, los vamos sumando\n",
    "            self.suma += self.numeros.pop() \n",
    "            # esto es para ir contando las iteraciones, y una vez alcanzado el N° de elementos, se corta el bucle\n",
    "            self.i+=1\n",
    "        return self.suma\n",
    "    \n",
    "    def puntaje(self, resultado):\n",
    "        self.puntos = 10 # Definimos el puntaje en 10\n",
    "        # Inicializamos la suma de resulatados y resultados es la variable definida en la función jugar()\n",
    "        self.sum_resultado = self.resultado \n",
    "        # mientras que la suma del resultado sea <= 50\n",
    "        while (self.sum_resultado <= 50):\n",
    "            self.sum_resultado += self.numeros.pop()\n",
    "            self.puntos = self.puntos - 1\n",
    "    \n",
    "        if (self.sum_resultado > 50):\n",
    "            return (self.puntos + 1)\n",
    "        else: \n",
    "            \n",
    "            return (self.puntos)\n",
    "\n",
    "    def jugar(self): # Esta función es la que nos va ir ejecutando cada paso del juego\n",
    "        self.crear_Pila()\n",
    "        \n",
    "        print('Indique cantidad de elementos a sacar: ')\n",
    "        self.cantidad_elementos = int(input()) # Le pedimos al usuario que indique una cantidad de elementos a sacar\n",
    "        \n",
    "        print('Se sacarán ',self.cantidad_elementos,' elementos')\n",
    "        \n",
    "        # Con esa cantidad de elementos, lo que hacemos es, calcular el resultado del usuario\n",
    "        # Llamamos a la función suma_elementos y la aplicamos a la cantidad de elementos que el usuario indicó\n",
    "        \"\"\"Acá se define la variable resultado, que vamos a usar en la función suma_resultado\"\"\"\n",
    "        self.resultado = self.suma_Elementos(self.cantidad_elementos)\n",
    "        \n",
    "        if (self.resultado > 50):\n",
    "            print('Perdiste, tus números suman', self.resultado)\n",
    "        else:\n",
    "            print('Ganaste con un resultado de ',self.resultado, 'teniendo un puntaje de ',self.puntaje(self.resultado))"
   ]
  },
  {
   "cell_type": "code",
   "execution_count": 14,
   "metadata": {},
   "outputs": [
    {
     "name": "stdout",
     "output_type": "stream",
     "text": [
      "La pila es: [6, 10, 18, 17, 2, 14, 11, 5, 7, 20, 1, 8, 16, 19, 3, 4, 15, 12, 13, 9]\n",
      "Indique cantidad de elementos a sacar: \n",
      "Se sacarán  3  elementos\n",
      "Ganaste con un resultado de  34 teniendo un puntaje de  9\n"
     ]
    }
   ],
   "source": [
    "j = Juego_Pilas()\n",
    "j.jugar()"
   ]
  },
  {
   "cell_type": "code",
   "execution_count": 5,
   "metadata": {},
   "outputs": [],
   "source": [
    "# Opción 2\n",
    "import random as r\n",
    "\n",
    "class Juego_Pila(object):\n",
    "    def __init__(self):\n",
    "        self.__list = [] # Creamos una lista vacía\n",
    "        \n",
    "    def crearPila(self):\n",
    "        self.__list = list(range(1,21)) # Creamos el rango de la lista entre 1 y 20\n",
    "\n",
    "    def jugar(self):\n",
    "        self.crearPila()\n",
    "        self.__desordenarPilaAleatorio()\n",
    "        calificacion = 10\n",
    "        nro = 20\n",
    "        lista_esperados = ['1','2','3','4','5','6','7','8','9','10','11','12','13','14','15','16','17','18','19']\n",
    "        while (nro > 19):\n",
    "            nro = input('Ingresar la cantidad de elementos:')\n",
    "            if (nro not in lista_esperados):\n",
    "                nro = 20\n",
    "            else:\n",
    "                nro = int(nro)\n",
    "        print('Pila Original:')\n",
    "        self.__mostrarPila()\n",
    "        suma = 0\n",
    "        while (nro > 0):\n",
    "            suma += self.__pop()\n",
    "            nro-= 1\n",
    "\n",
    "        print('Pila Obtenida:')\n",
    "        self.__mostrarPila()\n",
    "        nro = self.__size()\n",
    "        print('Con esa cantidad de elementos se sumó:', suma)\n",
    "        if(suma > 50):\n",
    "            print('No se cumplió el objetivo')\n",
    "        else:\n",
    "            while(suma <= 50):\n",
    "                suma += self.__pop()\n",
    "                if (suma <= 50):\n",
    "                    calificacion-=1\n",
    "            print('objetivo cumplido!!! Calificacion:', calificacion)\n",
    "        \n",
    "    def __desordenarPilaAleatorio(self):\n",
    "        for i in range(0,20):\n",
    "            aux = self.__list[i]\n",
    "            i_rand = r.randint(0,19)\n",
    "            self.__list[i] = self.__list[i_rand]\n",
    "            self.__list[i_rand] = aux\n",
    "\n",
    "    def __mostrarPila(self):\n",
    "        print(self.__list)\n",
    "\n",
    "    # Quitar un elemento de la Pila\n",
    "    def __pop(self):\n",
    "        return self.__list.pop()\n",
    "\n",
    "    # Devuelve el número de elementos en la Pila\n",
    "    def __size(self):\n",
    "         return len(self.__list)"
   ]
  },
  {
   "cell_type": "code",
   "execution_count": 7,
   "metadata": {},
   "outputs": [
    {
     "name": "stdout",
     "output_type": "stream",
     "text": [
      "Pila Original:\n",
      "[15, 4, 9, 8, 2, 7, 13, 1, 5, 11, 17, 18, 16, 3, 14, 12, 19, 20, 6, 10]\n",
      "Pila Obtenida:\n",
      "[15, 4, 9, 8, 2, 7, 13, 1, 5, 11, 17, 18, 16, 3, 14, 12, 19]\n",
      "Con esa cantidad de elementos se sumó: 36\n",
      "objetivo cumplido!!! Calificacion: 10\n"
     ]
    }
   ],
   "source": [
    "j = Juego_Pila()\n",
    "j.jugar()"
   ]
  },
  {
   "cell_type": "markdown",
   "metadata": {},
   "source": [
    "2) Implementar un juego donde constas de 2 jarras, de capacidad 5 y 3 litros respectivamente, y debes colocar 4 litros en la jarra de 5L.\n",
    "Las opciones posibles son:\n",
    "* Llenar la jarra de 3 litros\n",
    "* Llenar la jarra de 5 litros\n",
    "* Vaciar la jarra de 3 litros\n",
    "* Vaciar la jarra de 5 litros\n",
    "* Verter el contenido de la jarra de 3 litros en la de 5 litros\n",
    "* Verter el contenido de la jarra de 5 litros en la de 3 litros"
   ]
  },
  {
   "cell_type": "code",
   "execution_count": 3,
   "metadata": {},
   "outputs": [],
   "source": [
    "class Juego_Jarra():\n",
    "    def __init__(self):\n",
    "        self.__jarra5 = 0\n",
    "        self.__jarra3 = 0\n",
    "\n",
    "    def llenar(self, jarra):\n",
    "        if jarra == 3:\n",
    "            if self.__jarra3 != 0:\n",
    "                print(\"La jarra de 3 lts ya está llena!\")\n",
    "            else:    \n",
    "                self.__jarra3 = 3\n",
    "                print(\"Jarra de 3 lts llenada.\")\n",
    "        elif jarra == 5:\n",
    "            if self.__jarra5 != 0:\n",
    "                print(\"La jarra de 5 lts ya está llena!\")\n",
    "            else:\n",
    "                self.__jarra5 = 5\n",
    "                print(\"Jarra de 5 lts llenada.\")\n",
    "        else:\n",
    "            print(\"Indique si quiere llenar la jarra 3 o la jarra 5 (ingrese el número)\")\n",
    "    \n",
    "    def vaciar(self,jarra):\n",
    "        if jarra == 3:\n",
    "            if self.__jarra3 == 0:\n",
    "                print(\"La jarra de 3 lts ya está vacía!\")\n",
    "            else:    \n",
    "                self.__jarra3 = 0\n",
    "                print(\"Jarra de 3 lts vaciada.\")\n",
    "        elif jarra == 5:\n",
    "            if self.__jarra5 == 0:\n",
    "                print(\"La jarra de 5 lts ya está vacía!\")\n",
    "            else:\n",
    "                self.__jarra5 = 0\n",
    "                print(\"Jarra de 5 lts vaciada.\")\n",
    "        else:\n",
    "            print(\"Indique si quiere vaciar la jarra 3 o la jarra 5 (ingrese el número)\")\n",
    "\n",
    "    def consultar(self):\n",
    "        print (f\"En la jarra 3 hay {self.__jarra3} lts y en la jarra 5 hay {self.__jarra5} lts.\") \n",
    "    \n",
    "    def verter (self,jarra):\n",
    "        if jarra == 3:\n",
    "            if self.__jarra5 == 0:\n",
    "                self.__jarra5 += self.__jarra3\n",
    "                self.__jarra3 = 0\n",
    "            else:\n",
    "                while (self.__jarra3 != 0 and self.__jarra5 < 5):\n",
    "                    self.__jarra5 += 1\n",
    "                    self.__jarra3 -= 1\n",
    "\n",
    "        elif jarra == 5:\n",
    "            if self.__jarra5 == 0:\n",
    "                pass\n",
    "            else:\n",
    "                while self.__jarra5 != 0 and self.__jarra3 < 3:\n",
    "                    self.__jarra3 += 1\n",
    "                    self.__jarra5 -= 1\n",
    "        print(f\"Ahora la jarra 3 tiene {self.__jarra3} lts y la jarra 5 tiene {self.__jarra5} lts.\")"
   ]
  },
  {
   "cell_type": "markdown",
   "metadata": {},
   "source": [
    "#### Solución 1:\n",
    "\n",
    "– Llena la de 3 litros y vacíala en la de 5 litros. \n",
    "\n",
    "– Vuelve a llenar la de 3 litros. Vacíala en la de 5 litros.\n",
    "\n",
    "– Ahora te queda 1 litro en la de 3.\n",
    "\n",
    "– Tira todo lo que había en la de 5 litros.\n",
    "\n",
    "– Pasa el litro de la de 3 a la de 5 litros que ahora está vacía.\n",
    "\n",
    "– Ahora vuelve a llenar la de 3 litros y anádelo al litro que había en la de 5."
   ]
  },
  {
   "cell_type": "code",
   "execution_count": 5,
   "metadata": {},
   "outputs": [
    {
     "name": "stdout",
     "output_type": "stream",
     "text": [
      "Jarra de 3 lts llenada.\n",
      "Ahora la jarra 3 tiene 0 lts y la jarra 5 tiene 3 lts.\n",
      "Jarra de 3 lts llenada.\n",
      "Ahora la jarra 3 tiene 1 lts y la jarra 5 tiene 5 lts.\n",
      "Jarra de 5 lts vaciada.\n",
      "Ahora la jarra 3 tiene 0 lts y la jarra 5 tiene 1 lts.\n",
      "Jarra de 3 lts llenada.\n",
      "Ahora la jarra 3 tiene 0 lts y la jarra 5 tiene 4 lts.\n"
     ]
    }
   ],
   "source": [
    "j = Juego_Jarra()\n",
    "# Llenamos la de 3 y vaciala en la de 5 litros\n",
    "j.llenar(3)\n",
    "j.verter(3)\n",
    "# Vuelve a llenar la de 3 litros. Vacíala en la de 5 litros.\n",
    "j.llenar(3)\n",
    "j.verter(3)\n",
    "#Tira todo lo que había en la de 5 litros.\n",
    "j.vaciar(5)\n",
    "# Pasa el litro de la de 3 a la de 5 litros que ahora está vacía.\n",
    "j.verter(3)\n",
    "# Ahora vuelve a llenar la de 3 litros y anádelo al litro que había en la de 5.\n",
    "j.llenar(3)\n",
    "j.verter(3)"
   ]
  },
  {
   "cell_type": "markdown",
   "metadata": {},
   "source": [
    "#### Solución 2\n",
    "\n",
    "– Llena la de 5 litros. Vacíala en la de 3 litros. Eso hace que queden 2 en la de 5 litros.\n",
    "\n",
    "– Tira lo que haya en la de 3 y pasa esos 2 que quedaban.\n",
    "\n",
    "– Rellena de nuevo la de 5 litros. Con ella, rellena hasta el tope la de 3. Así quedan 4 litros en la de 5."
   ]
  },
  {
   "cell_type": "code",
   "execution_count": 6,
   "metadata": {},
   "outputs": [
    {
     "name": "stdout",
     "output_type": "stream",
     "text": [
      "Jarra de 5 lts llenada.\n",
      "Ahora la jarra 3 tiene 3 lts y la jarra 5 tiene 2 lts.\n",
      "Jarra de 3 lts vaciada.\n",
      "Ahora la jarra 3 tiene 2 lts y la jarra 5 tiene 0 lts.\n",
      "Jarra de 5 lts llenada.\n",
      "Ahora la jarra 3 tiene 3 lts y la jarra 5 tiene 4 lts.\n"
     ]
    }
   ],
   "source": [
    "j = Juego_Jarra()\n",
    "# – Llena la de 5 litros. Vacíala en la de 3 litros. Eso hace que queden 2 en la de 5 litros.\n",
    "j.llenar(5)\n",
    "j.verter(5)\n",
    "# Tira lo que haya en la de 3 y pasa esos 2 que quedaban.\n",
    "j.vaciar(3)\n",
    "j.verter(5)\n",
    "# Rellena de nuevo la de 5 litros. Con ella, rellena hasta el tope la de 3. Así quedan 4 litros en la de 5.\n",
    "j.llenar(5)\n",
    "j.verter(5)"
   ]
  },
  {
   "cell_type": "code",
   "execution_count": 15,
   "metadata": {},
   "outputs": [
    {
     "name": "stdout",
     "output_type": "stream",
     "text": [
      "[9, 2, 8, 19, 20, 15, 18, 13, 14, 11, 3, 5, 6, 7, 10, 1, 12, 17, 16, 4]\n",
      "Sumaste.... 37 y tu puntaje es: 8\n"
     ]
    }
   ],
   "source": [
    "## Código de Ricardo Isla\n",
    "import random\n",
    "class Estructura_Pila(object):\n",
    "    def __init__(self):\n",
    "        self.__list=random.sample(range(1,21), 20)\n",
    "        print(self.__list)\n",
    "    #funcion seleccion numeros\n",
    "    def seleccion_numeros(self):\n",
    "        numero=int(input(\"ingresa la cantidad de numeros que queres retirar\"))\n",
    "        #print(numero)\n",
    "        x=0\n",
    "        for i in range(numero):\n",
    "            x=x+self.__list.pop()\n",
    "        #print(x)\n",
    "        if x>50:\n",
    "            print(\"Perdiste!!! proba de nuevo.....\")\n",
    "        elif x==50:\n",
    "            print(\"FELICITACIONES!!! Sacaste el maximo puntaje!!!!\")\n",
    "        elif x<50:\n",
    "            y=x\n",
    "            contador=-1\n",
    "            while x<=50:\n",
    "                x=self.__list.pop()+x\n",
    "                contador=contador+1\n",
    "            print(\"Sumaste....\",y,\"y tu puntaje es:\",(10-contador))\n",
    "if __name__ == '__main__':\n",
    "    s=Estructura_Pila()\n",
    "    s.seleccion_numeros()\n"
   ]
  },
  {
   "cell_type": "code",
   "execution_count": 16,
   "metadata": {},
   "outputs": [
    {
     "name": "stdout",
     "output_type": "stream",
     "text": [
      "[6, 15, 14, 8, 11, 1, 13, 9, 4, 3, 12, 16, 17, 20, 2, 7, 19, 5, 18, 10]\n"
     ]
    },
    {
     "ename": "AttributeError",
     "evalue": "'Estructura_Pila' object has no attribute 'push'",
     "output_type": "error",
     "traceback": [
      "\u001b[1;31m---------------------------------------------------------------------------\u001b[0m",
      "\u001b[1;31mAttributeError\u001b[0m                            Traceback (most recent call last)",
      "Cell \u001b[1;32mIn [16], line 7\u001b[0m\n\u001b[0;32m      5\u001b[0m calificacion \u001b[39m=\u001b[39m \u001b[39m0\u001b[39m \n\u001b[0;32m      6\u001b[0m \u001b[39mfor\u001b[39;00m i \u001b[39min\u001b[39;00m \u001b[39mrange\u001b[39m(\u001b[39m20\u001b[39m): \u001b[39m#Generar numeros aleatorios de 1 al 20\u001b[39;00m\n\u001b[1;32m----> 7\u001b[0m     num\u001b[39m=\u001b[39ms\u001b[39m.\u001b[39;49mpush(np\u001b[39m.\u001b[39mrandom\u001b[39m.\u001b[39mrandint(\u001b[39m1\u001b[39m,\u001b[39m21\u001b[39m))\n\u001b[0;32m      8\u001b[0m \u001b[39mprint\u001b[39m(num)\n\u001b[0;32m      9\u001b[0m i\u001b[39m=\u001b[39m\u001b[39m0\u001b[39m\n",
      "\u001b[1;31mAttributeError\u001b[0m: 'Estructura_Pila' object has no attribute 'push'"
     ]
    }
   ],
   "source": [
    "num_carts = int(input('Cuantas cartas quiere sacar'))\n",
    "s = Estructura_Pila() #Crear un objeto de tipo estructura pila\n",
    "num=[] #Lista de números aleatorios\n",
    "numeros=[] # Lista de cartas seleccionadas\n",
    "calificacion = 0 \n",
    "for i in range(20): #Generar numeros aleatorios de 1 al 20\n",
    "    num=s.push(np.random.randint(1,21))\n",
    "print(num)\n",
    "i=0\n",
    "while(i<num_carts): #Extraer los valores de la pila\n",
    "    numeros.append(s.pop())\n",
    "    i+=1\n",
    "suma = np.sum(numeros) # Suma de de los valores extraidos de la pila\n",
    "if suma==50:\n",
    "    calificacion = 10\n",
    "    print(f'Ganaste, tu calificación es: {calificacion}')\n",
    "elif suma <50:\n",
    "    calificacion =5\n",
    "    print(f'Vuelve a intentar tu calificación es: {calificacion}')\n",
    "elif suma>50:\n",
    "    calificacion = 0\n",
    "    print(f'Perdiste, tu calificación es: {calificacion}')\n",
    "print('Tus cartas son:',numeros)\n",
    "print(suma)"
   ]
  },
  {
   "cell_type": "code",
   "execution_count": null,
   "metadata": {},
   "outputs": [],
   "source": []
  }
 ],
 "metadata": {
  "kernelspec": {
   "display_name": "Python 3.9.13 64-bit (microsoft store)",
   "language": "python",
   "name": "python3"
  },
  "language_info": {
   "codemirror_mode": {
    "name": "ipython",
    "version": 3
   },
   "file_extension": ".py",
   "mimetype": "text/x-python",
   "name": "python",
   "nbconvert_exporter": "python",
   "pygments_lexer": "ipython3",
   "version": "3.9.13"
  },
  "vscode": {
   "interpreter": {
    "hash": "6d99bf0d643eed1325676542f0e36a26c95a95a18dabac2559562a081a2ab231"
   }
  }
 },
 "nbformat": 4,
 "nbformat_minor": 4
}
