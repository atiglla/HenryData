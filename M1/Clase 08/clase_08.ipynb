{
 "cells": [
  {
   "cell_type": "markdown",
   "metadata": {},
   "source": [
    "Algoritmos I"
   ]
  },
  {
   "cell_type": "code",
   "execution_count": null,
   "metadata": {},
   "outputs": [],
   "source": [
    "from random import sample\n",
    "numeros = sample(range(1,11), 10)\n",
    "numeros"
   ]
  },
  {
   "cell_type": "markdown",
   "metadata": {},
   "source": [
    "Maximo"
   ]
  },
  {
   "cell_type": "code",
   "execution_count": null,
   "metadata": {},
   "outputs": [],
   "source": [
    "maximo = numeros[0]\n",
    "for num in numeros:\n",
    "   if num > maximo:\n",
    "      maximo = num\n",
    "print(maximo)"
   ]
  },
  {
   "cell_type": "markdown",
   "metadata": {},
   "source": [
    "Máximo y mínimo"
   ]
  },
  {
   "cell_type": "code",
   "execution_count": null,
   "metadata": {},
   "outputs": [],
   "source": [
    "maximo = numeros[0]\n",
    "for num in numeros:\n",
    "   if num > maximo:\n",
    "      maximo = num\n",
    "print(maximo)\n",
    "\n",
    "minimo = numeros[0]\n",
    "for num in numeros:\n",
    "   if num < minimo:\n",
    "      minimo = num\n",
    "print(minimo)"
   ]
  },
  {
   "cell_type": "markdown",
   "metadata": {},
   "source": [
    "Máximo y mínimo más óptimo"
   ]
  },
  {
   "cell_type": "code",
   "execution_count": null,
   "metadata": {},
   "outputs": [],
   "source": [
    "maximo = numeros[0]\n",
    "minimo = numeros[0]\n",
    "for num in numeros:\n",
    "   if num < minimo:\n",
    "      minimo = num\n",
    "   if num > maximo:\n",
    "      maximo = num\n",
    "print(minimo)\n",
    "print(maximo)"
   ]
  },
  {
   "cell_type": "code",
   "execution_count": null,
   "metadata": {},
   "outputs": [],
   "source": [
    "\"\"\" print(\"Hola Mundo\")\n",
    "print(\"Hola Mundo\")\n",
    "print(\"Hola Mundo\")\n",
    "print(\"Hola Mundo\")\n",
    "print(\"Hola Mundo\") \"\"\"\n",
    "\n",
    "for i in range(5):\n",
    "   print(\"Hola Mundo\")"
   ]
  },
  {
   "cell_type": "code",
   "execution_count": null,
   "metadata": {},
   "outputs": [],
   "source": [
    "x = 9\n",
    "#Factorial 4 = 4*3*2*1 = 24"
   ]
  },
  {
   "cell_type": "code",
   "execution_count": null,
   "metadata": {},
   "outputs": [],
   "source": [
    "matriz = [[2,3,4],[5,6,7]]\n",
    "for fila in matriz:\n",
    "   for num in fila:\n",
    "      print(num)"
   ]
  },
  {
   "cell_type": "markdown",
   "metadata": {},
   "source": [
    "8, 6, 4, 7, 2, 1, 10, 5, 9, 3\n",
    "6, 8, 4, 7, 2, 1, 10, 5, 9, 3\n",
    "6, 4, 8, 7, 2, 1, 10, 5, 9, 3\n",
    "1, 2, 3, 4, 5, 6, 7, 8, 9, 10\n"
   ]
  }
 ],
 "metadata": {
  "kernelspec": {
   "display_name": "Python 3.9.7 64-bit",
   "language": "python",
   "name": "python3"
  },
  "language_info": {
   "codemirror_mode": {
    "name": "ipython",
    "version": 3
   },
   "file_extension": ".py",
   "mimetype": "text/x-python",
   "name": "python",
   "nbconvert_exporter": "python",
   "pygments_lexer": "ipython3",
   "version": "3.9.7"
  },
  "orig_nbformat": 4,
  "vscode": {
   "interpreter": {
    "hash": "11938c6bc6919ae2720b4d5011047913343b08a43b18698fd82dedb0d4417594"
   }
  }
 },
 "nbformat": 4,
 "nbformat_minor": 2
}
