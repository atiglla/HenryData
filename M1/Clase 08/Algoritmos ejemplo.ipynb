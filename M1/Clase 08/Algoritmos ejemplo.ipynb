{
 "cells": [
  {
   "cell_type": "code",
   "execution_count": 2,
   "metadata": {},
   "outputs": [],
   "source": [
    "from random import randint, sample"
   ]
  },
  {
   "cell_type": "markdown",
   "metadata": {},
   "source": []
  },
  {
   "cell_type": "code",
   "execution_count": 100,
   "metadata": {},
   "outputs": [
    {
     "name": "stdout",
     "output_type": "stream",
     "text": [
      "Comienza a jugar: \n",
      "Intento numero:  1\n",
      "Ingrese un numero: \n",
      "Ingresaste el:  16\n",
      "El número ingresado es mayor, intenta nuevamente!\n",
      "Intento numero:  2\n",
      "Ingrese un numero: \n",
      "Ingresaste el:  10\n",
      "El numero ingresado es menor, intenta nuevamente\n",
      "Intento numero:  3\n",
      "Ingrese un numero: \n",
      "Ingresaste el:  11\n",
      "El numero ingresado es menor, intenta nuevamente\n",
      "Intento numero:  4\n",
      "Ingrese un numero: \n",
      "Ingresaste el:  11\n",
      "El numero ingresado es menor, intenta nuevamente\n",
      "Intento numero:  5\n",
      "Ingrese un numero: \n",
      "Ingresaste el:  12\n",
      "El numero ingresado es menor, intenta nuevamente\n",
      "Intento numero:  6\n",
      "Ingrese un numero: \n",
      "Ingresaste el:  13\n",
      "El numero ingresado es menor, intenta nuevamente\n",
      "Intento numero:  7\n",
      "Ingrese un numero: \n",
      "Ingresaste el:  14\n",
      "Adivinaste el número, era el  14\n",
      "Fin del juego\n"
     ]
    }
   ],
   "source": [
    "## Juego de adivinar  ----> Algoritmos\n",
    "numero_a_adivinar = randint(1,17)\n",
    "control= 0 # Variable de control de ciclo\n",
    "intentos = 1\n",
    "print(\"Comienza a jugar: \")\n",
    "while control == 0:\n",
    "    print('Intento numero: ', intentos)\n",
    "    print(\"Ingrese un numero: \")\n",
    "    num = int(input()) # Solicitamos el numero a comparar\n",
    "    print(\"Ingresaste el: \",num)\n",
    "    if num == numero_a_adivinar:\n",
    "        intentos += 1\n",
    "        print(\"Adivinaste el número, era el \", num)\n",
    "        print(\"Fin del juego\")\n",
    "        control = 1\n",
    "    elif (num > numero_a_adivinar):\n",
    "        print(\"El número ingresado es mayor, intenta nuevamente!\")\n",
    "        intentos += 1\n",
    "    elif (num < numero_a_adivinar):\n",
    "        print(\"El numero ingresado es menor, intenta nuevamente\")\n",
    "        intentos += 1"
   ]
  },
  {
   "cell_type": "code",
   "execution_count": null,
   "metadata": {},
   "outputs": [],
   "source": [
    "# Búsqueda binaria\n",
    "# Esto está estrechamente relacionado con los árboles binarios\n",
    "# 1° Le pregunto si es más grande o más chico que el valor medio de la lista. > ó < a 10 por ejemplo\n",
    "# Entonces ya con eso, achico a la mitad la lista.\n",
    "# 2° Vuelvo a preguntarle a partir de la mitad de la lista y así sucesivamente ..."
   ]
  },
  {
   "cell_type": "code",
   "execution_count": 89,
   "metadata": {},
   "outputs": [
    {
     "data": {
      "text/plain": [
       "[7, 6, 3, 8, 4, 2, 1, 10, 5, 9]"
      ]
     },
     "execution_count": 89,
     "metadata": {},
     "output_type": "execute_result"
    }
   ],
   "source": [
    "\n",
    "numeros = sample(range(1,11),10)\n",
    "numeros"
   ]
  },
  {
   "cell_type": "code",
   "execution_count": 91,
   "metadata": {},
   "outputs": [
    {
     "name": "stdout",
     "output_type": "stream",
     "text": [
      "10\n",
      "1\n"
     ]
    }
   ],
   "source": [
    "# Primer algoritmo; Fuerza bruta ---> Búsqueda lineal\n",
    "max = numeros[0] # creamos la variable max, con el primer número de la lista\n",
    "for numero in numeros: # ahora iteramos sobre la lista numeros y vamos comparando cada numero con max\n",
    "    if numero > max: # una vez que se encuentra un numero mayor que max, se guarda en la variable y se vuelve a iterar\n",
    "        max = numero # por eso se lo llama algoritmo de fuerza bruta. Es lo más rústico que hay, porque va iterando toda \n",
    "                     # la list, su velocidad va a depender 100 % de la capacidad de cómputo y del largo de la lista\n",
    "print(max) # Acá O (N)\n",
    "\n",
    "min = numeros[0]\n",
    "for numero in numeros:\n",
    "    if numero < min:\n",
    "        min = numero\n",
    "print(min)\n",
    "\n",
    "# Acá al estar haciendo dos procesos de fuerza bruta, la fórmula es O (N + N) = 0 ( 2 N )"
   ]
  },
  {
   "cell_type": "code",
   "execution_count": 96,
   "metadata": {},
   "outputs": [],
   "source": [
    "## Búsqueda lineal\n",
    "def busqueda_lineal(lista, valor):\n",
    "    pasos = 0\n",
    "    for i, item in enumerate(lista):\n",
    "        pasos += 1\n",
    "        if item == valor:\n",
    "            return \"Valor encontrado en {} pasos en la posicion {}.\".format (pasos, i)\n",
    "    return \"Elemento no encontrado\""
   ]
  },
  {
   "cell_type": "code",
   "execution_count": 66,
   "metadata": {},
   "outputs": [],
   "source": [
    "## Búsqeuda binaria\n",
    "def busqueda_binaria(lista, valor):\n",
    "    pasos = 0\n",
    "    izq = 0\n",
    "    der = len(lista) - 1\n",
    "    while izq <= der:\n",
    "        pasos += 1\n",
    "        punto_medio = (izq + der) // 2\n",
    "        if lista[punto_medio] == valor:\n",
    "            return \"Valor encontrado en {} pasos, en la posicion {}\".format(pasos, punto_medio)\n",
    "        if lista[punto_medio] > valor:\n",
    "            der = punto_medio - 1\n",
    "        if lista[punto_medio] < valor:\n",
    "            izq = punto_medio + 1\n",
    "\n",
    "    return \"Elemento no encontrado\""
   ]
  },
  {
   "cell_type": "code",
   "execution_count": 68,
   "metadata": {},
   "outputs": [
    {
     "name": "stdout",
     "output_type": "stream",
     "text": [
      "[6, 1, 3, 12, 19, 20, 9, 2, 18, 10, 17, 11, 13, 5, 16, 4, 14, 7, 8, 15]\n"
     ]
    }
   ],
   "source": [
    "## creamos otra lista\n",
    "lista = sample(range(1,21),20)\n",
    "print(lista)"
   ]
  },
  {
   "cell_type": "code",
   "execution_count": 98,
   "metadata": {},
   "outputs": [
    {
     "name": "stdout",
     "output_type": "stream",
     "text": [
      "Valor encontrado en 1 pasos, en la posicion 9\n"
     ]
    }
   ],
   "source": [
    "posicion = busqueda_binaria(lista,10)\n",
    "print(posicion)"
   ]
  },
  {
   "cell_type": "code",
   "execution_count": 101,
   "metadata": {},
   "outputs": [
    {
     "name": "stdout",
     "output_type": "stream",
     "text": [
      "Valor encontrado en 10 pasos en la posicion 9.\n"
     ]
    }
   ],
   "source": [
    "posicion_2 = busqueda_lineal(lista, 10)\n",
    "print(posicion_2)"
   ]
  },
  {
   "cell_type": "code",
   "execution_count": 8,
   "metadata": {},
   "outputs": [
    {
     "name": "stdout",
     "output_type": "stream",
     "text": [
      "10\n"
     ]
    }
   ],
   "source": [
    "# O (1) ---> Siempre tarda lo mismo, porque es una constante:\n",
    "max = 10\n",
    "print(max) # Va a demorar siempre lo mismo\n"
   ]
  },
  {
   "cell_type": "code",
   "execution_count": 102,
   "metadata": {},
   "outputs": [
    {
     "data": {
      "text/plain": [
       "[7, 6, 3, 8, 4, 2, 1, 10, 5, 9]"
      ]
     },
     "execution_count": 102,
     "metadata": {},
     "output_type": "execute_result"
    }
   ],
   "source": [
    "numeros"
   ]
  },
  {
   "cell_type": "code",
   "execution_count": 7,
   "metadata": {},
   "outputs": [
    {
     "name": "stdout",
     "output_type": "stream",
     "text": [
      "Máximo 10\n",
      "Mínimo 1\n"
     ]
    }
   ],
   "source": [
    "# Caso O( N ) = O( N ), estamos haciendo dos if con dos variables distintas, pero dentro del mismo proceso\n",
    "max = numeros[0]\n",
    "min = numeros[0]\n",
    "for numero in numeros:\n",
    "    if numero > max:\n",
    "        max=numero\n",
    "    if numero < min:\n",
    "        min = numero\n",
    "print(\"Máximo\", max)\n",
    "print(\"Mínimo\", min)"
   ]
  },
  {
   "cell_type": "code",
   "execution_count": 107,
   "metadata": {},
   "outputs": [
    {
     "name": "stdout",
     "output_type": "stream",
     "text": [
      "4\n",
      "2\n",
      "8\n",
      "7\n",
      "5\n",
      "9\n"
     ]
    }
   ],
   "source": [
    "# Caso O (n**2) ---> Pero porqué? porque estamos iterando un elemento de un elemento, en este caso estamos iterando \n",
    "# las listas de una matriz y a su vez los elementos de las listas. Por eso es un caso de n**2, porque es un for anidado \n",
    "matriz = [[4,2,8], [7,5,9]]\n",
    "for fila in matriz:\n",
    "    for elemento in fila:\n",
    "        print(elemento)\n",
    "# Caso O (Nc) es lo mismo que lo anterior pero customizado, es decir, aplicarlo a cualquier caso con la misma lógica.\n",
    "# Por ejemplo un for, adentro de otro for, adentro de otro for. Sería un n**3"
   ]
  },
  {
   "cell_type": "code",
   "execution_count": null,
   "metadata": {},
   "outputs": [],
   "source": [
    "## O (N!), el juego que hicimos el otro día de la pila, tiene esta complejidad"
   ]
  },
  {
   "cell_type": "code",
   "execution_count": null,
   "metadata": {},
   "outputs": [],
   "source": [
    "## La velocidad de procesamiento de un algoritmo, no debe medirse en velocidad, si no en eficiencia.\n",
    "## Deberíamos hacer una tasa de operaciones por segundo (eficiencia)"
   ]
  },
  {
   "cell_type": "code",
   "execution_count": 119,
   "metadata": {},
   "outputs": [
    {
     "data": {
      "text/plain": [
       "134217728"
      ]
     },
     "execution_count": 119,
     "metadata": {},
     "output_type": "execute_result"
    }
   ],
   "source": [
    "2**3**3"
   ]
  },
  {
   "cell_type": "code",
   "execution_count": 95,
   "metadata": {},
   "outputs": [
    {
     "name": "stdout",
     "output_type": "stream",
     "text": [
      "The factorial of 3 is 6\n"
     ]
    }
   ],
   "source": [
    "## factorial\n",
    "num = int(input(\"Enter a number: \"))    \n",
    "factorial = 1    \n",
    "if num < 0:    \n",
    "   print(\" Factorial does not exist for negative numbers\")    \n",
    "elif num == 0:    \n",
    "   print(\"The factorial of 0 is 1\")    \n",
    "else:    \n",
    "   for i in range(1,num + 1):    \n",
    "       factorial = factorial*i    \n",
    "   print(\"The factorial of\",num,\"is\",factorial)    "
   ]
  },
  {
   "cell_type": "code",
   "execution_count": 29,
   "metadata": {},
   "outputs": [
    {
     "data": {
      "text/plain": [
       "[6, 10, 8, 2, 7, 1, 5, 3, 9, 4]"
      ]
     },
     "execution_count": 29,
     "metadata": {},
     "output_type": "execute_result"
    }
   ],
   "source": [
    "## Ordenamiento por burbujas:\n",
    "# El sample, mezcla la lista, el parámetro 10, le da la cantidad de elementos a la lista\n",
    "lista = sample(list(range(1,11)),10)\n",
    "lista"
   ]
  },
  {
   "cell_type": "code",
   "execution_count": 28,
   "metadata": {},
   "outputs": [
    {
     "name": "stdout",
     "output_type": "stream",
     "text": [
      "[1, 2, 3, 4, 5, 6, 7, 8, 9, 10]\n"
     ]
    }
   ],
   "source": [
    "for i in range(len(lista) - 1):\n",
    "    #print(i)\n",
    "    for j in range(len(lista)-1):\n",
    "        #print(j)\n",
    "        if lista[j] > lista[j+1]:\n",
    "            # Asignación multiple de elementos\n",
    "            lista[j], lista[j+1] = lista[j+1], lista[j]\n",
    "print(lista)"
   ]
  },
  {
   "cell_type": "code",
   "execution_count": 30,
   "metadata": {},
   "outputs": [
    {
     "name": "stdout",
     "output_type": "stream",
     "text": [
      "Comparando [lista j] 6 con [lista j+1] 10\n",
      "Comparando [lista j] 10 con [lista j+1] 8\n",
      "Intercambiando: 8 por 10\n",
      "Comparando [lista j] 10 con [lista j+1] 2\n",
      "Intercambiando: 2 por 10\n",
      "Comparando [lista j] 10 con [lista j+1] 7\n",
      "Intercambiando: 7 por 10\n",
      "Comparando [lista j] 10 con [lista j+1] 1\n",
      "Intercambiando: 1 por 10\n",
      "Comparando [lista j] 10 con [lista j+1] 5\n",
      "Intercambiando: 5 por 10\n",
      "Comparando [lista j] 10 con [lista j+1] 3\n",
      "Intercambiando: 3 por 10\n",
      "Comparando [lista j] 10 con [lista j+1] 9\n",
      "Intercambiando: 9 por 10\n",
      "Comparando [lista j] 10 con [lista j+1] 4\n",
      "Intercambiando: 4 por 10\n",
      "Comparando [lista j] 6 con [lista j+1] 8\n",
      "Comparando [lista j] 8 con [lista j+1] 2\n",
      "Intercambiando: 2 por 8\n",
      "Comparando [lista j] 8 con [lista j+1] 7\n",
      "Intercambiando: 7 por 8\n",
      "Comparando [lista j] 8 con [lista j+1] 1\n",
      "Intercambiando: 1 por 8\n",
      "Comparando [lista j] 8 con [lista j+1] 5\n",
      "Intercambiando: 5 por 8\n",
      "Comparando [lista j] 8 con [lista j+1] 3\n",
      "Intercambiando: 3 por 8\n",
      "Comparando [lista j] 8 con [lista j+1] 9\n",
      "Comparando [lista j] 9 con [lista j+1] 4\n",
      "Intercambiando: 4 por 9\n",
      "Comparando [lista j] 9 con [lista j+1] 10\n",
      "Comparando [lista j] 6 con [lista j+1] 2\n",
      "Intercambiando: 2 por 6\n",
      "Comparando [lista j] 6 con [lista j+1] 7\n",
      "Comparando [lista j] 7 con [lista j+1] 1\n",
      "Intercambiando: 1 por 7\n",
      "Comparando [lista j] 7 con [lista j+1] 5\n",
      "Intercambiando: 5 por 7\n",
      "Comparando [lista j] 7 con [lista j+1] 3\n",
      "Intercambiando: 3 por 7\n",
      "Comparando [lista j] 7 con [lista j+1] 8\n",
      "Comparando [lista j] 8 con [lista j+1] 4\n",
      "Intercambiando: 4 por 8\n",
      "Comparando [lista j] 8 con [lista j+1] 9\n",
      "Comparando [lista j] 9 con [lista j+1] 10\n",
      "Comparando [lista j] 2 con [lista j+1] 6\n",
      "Comparando [lista j] 6 con [lista j+1] 1\n",
      "Intercambiando: 1 por 6\n",
      "Comparando [lista j] 6 con [lista j+1] 5\n",
      "Intercambiando: 5 por 6\n",
      "Comparando [lista j] 6 con [lista j+1] 3\n",
      "Intercambiando: 3 por 6\n",
      "Comparando [lista j] 6 con [lista j+1] 7\n",
      "Comparando [lista j] 7 con [lista j+1] 4\n",
      "Intercambiando: 4 por 7\n",
      "Comparando [lista j] 7 con [lista j+1] 8\n",
      "Comparando [lista j] 8 con [lista j+1] 9\n",
      "Comparando [lista j] 9 con [lista j+1] 10\n",
      "Comparando [lista j] 2 con [lista j+1] 1\n",
      "Intercambiando: 1 por 2\n",
      "Comparando [lista j] 2 con [lista j+1] 5\n",
      "Comparando [lista j] 5 con [lista j+1] 3\n",
      "Intercambiando: 3 por 5\n",
      "Comparando [lista j] 5 con [lista j+1] 6\n",
      "Comparando [lista j] 6 con [lista j+1] 4\n",
      "Intercambiando: 4 por 6\n",
      "Comparando [lista j] 6 con [lista j+1] 7\n",
      "Comparando [lista j] 7 con [lista j+1] 8\n",
      "Comparando [lista j] 8 con [lista j+1] 9\n",
      "Comparando [lista j] 9 con [lista j+1] 10\n",
      "Comparando [lista j] 1 con [lista j+1] 2\n",
      "Comparando [lista j] 2 con [lista j+1] 3\n",
      "Comparando [lista j] 3 con [lista j+1] 5\n",
      "Comparando [lista j] 5 con [lista j+1] 4\n",
      "Intercambiando: 4 por 5\n",
      "Comparando [lista j] 5 con [lista j+1] 6\n",
      "Comparando [lista j] 6 con [lista j+1] 7\n",
      "Comparando [lista j] 7 con [lista j+1] 8\n",
      "Comparando [lista j] 8 con [lista j+1] 9\n",
      "Comparando [lista j] 9 con [lista j+1] 10\n",
      "Comparando [lista j] 1 con [lista j+1] 2\n",
      "Comparando [lista j] 2 con [lista j+1] 3\n",
      "Comparando [lista j] 3 con [lista j+1] 4\n",
      "Comparando [lista j] 4 con [lista j+1] 5\n",
      "Comparando [lista j] 5 con [lista j+1] 6\n",
      "Comparando [lista j] 6 con [lista j+1] 7\n",
      "Comparando [lista j] 7 con [lista j+1] 8\n",
      "Comparando [lista j] 8 con [lista j+1] 9\n",
      "Comparando [lista j] 9 con [lista j+1] 10\n",
      "Comparando [lista j] 1 con [lista j+1] 2\n",
      "Comparando [lista j] 2 con [lista j+1] 3\n",
      "Comparando [lista j] 3 con [lista j+1] 4\n",
      "Comparando [lista j] 4 con [lista j+1] 5\n",
      "Comparando [lista j] 5 con [lista j+1] 6\n",
      "Comparando [lista j] 6 con [lista j+1] 7\n",
      "Comparando [lista j] 7 con [lista j+1] 8\n",
      "Comparando [lista j] 8 con [lista j+1] 9\n",
      "Comparando [lista j] 9 con [lista j+1] 10\n",
      "Comparando [lista j] 1 con [lista j+1] 2\n",
      "Comparando [lista j] 2 con [lista j+1] 3\n",
      "Comparando [lista j] 3 con [lista j+1] 4\n",
      "Comparando [lista j] 4 con [lista j+1] 5\n",
      "Comparando [lista j] 5 con [lista j+1] 6\n",
      "Comparando [lista j] 6 con [lista j+1] 7\n",
      "Comparando [lista j] 7 con [lista j+1] 8\n",
      "Comparando [lista j] 8 con [lista j+1] 9\n",
      "Comparando [lista j] 9 con [lista j+1] 10\n",
      "[1, 2, 3, 4, 5, 6, 7, 8, 9, 10]\n"
     ]
    }
   ],
   "source": [
    "## Mismo ejercicio que el anterior, pero sin la asignación múltiple\n",
    "for i in range(len(lista) - 1):\n",
    "    for j in range(len(lista)-1):\n",
    "        print(\"Comparando [lista j]\", lista[j], \"con [lista j+1]\", lista[j+1])\n",
    "        if lista[j] > lista[j+1]:\n",
    "            # Asignación multiple de elementos\n",
    "            temporal = lista[j]\n",
    "            lista[j] = lista[j+1]\n",
    "            lista[j+1] = temporal\n",
    "            print(\"Intercambiando:\", lista[j], 'por', lista[j+1])\n",
    "print(lista)"
   ]
  },
  {
   "cell_type": "code",
   "execution_count": 14,
   "metadata": {},
   "outputs": [
    {
     "name": "stdout",
     "output_type": "stream",
     "text": [
      "range(0, 9)\n"
     ]
    }
   ],
   "source": [
    "print(range(len(lista)-1))"
   ]
  },
  {
   "cell_type": "code",
   "execution_count": null,
   "metadata": {},
   "outputs": [],
   "source": []
  }
 ],
 "metadata": {
  "kernelspec": {
   "display_name": "Python 3.9.13 64-bit (microsoft store)",
   "language": "python",
   "name": "python3"
  },
  "language_info": {
   "codemirror_mode": {
    "name": "ipython",
    "version": 3
   },
   "file_extension": ".py",
   "mimetype": "text/x-python",
   "name": "python",
   "nbconvert_exporter": "python",
   "pygments_lexer": "ipython3",
   "version": "3.9.13"
  },
  "orig_nbformat": 4,
  "vscode": {
   "interpreter": {
    "hash": "6d99bf0d643eed1325676542f0e36a26c95a95a18dabac2559562a081a2ab231"
   }
  }
 },
 "nbformat": 4,
 "nbformat_minor": 2
}
